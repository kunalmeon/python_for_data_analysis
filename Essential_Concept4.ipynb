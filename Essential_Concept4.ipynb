{
 "cells": [
  {
   "cell_type": "code",
   "execution_count": 5,
   "id": "4be20cf0-d6eb-47c6-b56a-97317ca24072",
   "metadata": {
    "tags": []
   },
   "outputs": [
    {
     "name": "stdout",
     "output_type": "stream",
     "text": [
      "   Column1  Column2\n",
      "0        1        3\n",
      "1        2        4\n"
     ]
    }
   ],
   "source": [
    "import pandas as pd\n",
    "\n",
    "# Create a dictionary with data\n",
    "data = {\n",
    "    'Column1': [1, 2],\n",
    "    'Column2': [3, 4]\n",
    "}\n",
    "\n",
    "# Create DataFrame\n",
    "df = pd.DataFrame(data)\n",
    "\n",
    "# Display DataFrame\n",
    "print(df)\n"
   ]
  },
  {
   "cell_type": "code",
   "execution_count": 10,
   "id": "3f311e59-457f-4ebf-a02d-b6a8a7c20cdf",
   "metadata": {
    "tags": []
   },
   "outputs": [
    {
     "data": {
      "text/html": [
       "<div>\n",
       "<style scoped>\n",
       "    .dataframe tbody tr th:only-of-type {\n",
       "        vertical-align: middle;\n",
       "    }\n",
       "\n",
       "    .dataframe tbody tr th {\n",
       "        vertical-align: top;\n",
       "    }\n",
       "\n",
       "    .dataframe thead th {\n",
       "        text-align: right;\n",
       "    }\n",
       "</style>\n",
       "<table border=\"1\" class=\"dataframe\">\n",
       "  <thead>\n",
       "    <tr style=\"text-align: right;\">\n",
       "      <th></th>\n",
       "      <th>Column1</th>\n",
       "      <th>Column2</th>\n",
       "    </tr>\n",
       "  </thead>\n",
       "  <tbody>\n",
       "    <tr>\n",
       "      <th>0</th>\n",
       "      <td>2</td>\n",
       "      <td>6</td>\n",
       "    </tr>\n",
       "    <tr>\n",
       "      <th>1</th>\n",
       "      <td>4</td>\n",
       "      <td>8</td>\n",
       "    </tr>\n",
       "  </tbody>\n",
       "</table>\n",
       "</div>"
      ],
      "text/plain": [
       "   Column1  Column2\n",
       "0        2        6\n",
       "1        4        8"
      ]
     },
     "execution_count": 10,
     "metadata": {},
     "output_type": "execute_result"
    }
   ],
   "source": [
    "df.apply(lambda x:x*2, axis=1)"
   ]
  },
  {
   "cell_type": "code",
   "execution_count": 9,
   "id": "e0a3a32b-7d75-4db7-a943-7c08605624e2",
   "metadata": {
    "tags": []
   },
   "outputs": [
    {
     "name": "stdout",
     "output_type": "stream",
     "text": [
      "book_id    101\n",
      "Name: 0, dtype: int64\n",
      "book_id    102\n",
      "Name: 1, dtype: int64\n",
      "book_id    103\n",
      "Name: 2, dtype: int64\n",
      "   Fantasy  Adventure  Mystery\n",
      "0        1          0        0\n",
      "1        0          1        0\n",
      "2        1          0        1\n"
     ]
    }
   ],
   "source": [
    "import pandas as pd\n",
    "\n",
    "# Sample DataFrame representing books with their IDs\n",
    "books_df = pd.DataFrame({\n",
    "    'book_id': [101, 102, 103],\n",
    "})\n",
    "\n",
    "\n",
    "# Function to classify books into genres based on their IDs\n",
    "def classify_genre(books_df):\n",
    "    print(books_df)\n",
    "    if books_df['book_id'] == 101:\n",
    "        return pd.Series({'Fantasy': 1, 'Adventure': 0, 'Mystery': 0})\n",
    "    elif books_df['book_id'] == 102:\n",
    "        return pd.Series({'Fantasy': 0, 'Adventure': 1, 'Mystery': 0})\n",
    "    elif books_df['book_id'] == 103:\n",
    "        return pd.Series({'Fantasy': 1, 'Adventure': 0, 'Mystery': 1})\n",
    "\n",
    "# Applying the function to each book ID in the DataFrame\n",
    "genre_df = books_df.apply(classify_genre, axis=1)\n",
    "\n",
    "# Final output DataFrame showing genres associated with each book\n",
    "print(genre_df)\n"
   ]
  },
  {
   "cell_type": "code",
   "execution_count": 20,
   "id": "7f3a83de-17b5-4554-ae11-5015fbe84f0e",
   "metadata": {},
   "outputs": [
    {
     "data": {
      "text/html": [
       "<div>\n",
       "<style scoped>\n",
       "    .dataframe tbody tr th:only-of-type {\n",
       "        vertical-align: middle;\n",
       "    }\n",
       "\n",
       "    .dataframe tbody tr th {\n",
       "        vertical-align: top;\n",
       "    }\n",
       "\n",
       "    .dataframe thead th {\n",
       "        text-align: right;\n",
       "    }\n",
       "</style>\n",
       "<table border=\"1\" class=\"dataframe\">\n",
       "  <thead>\n",
       "    <tr style=\"text-align: right;\">\n",
       "      <th></th>\n",
       "      <th>0</th>\n",
       "      <th>1</th>\n",
       "    </tr>\n",
       "  </thead>\n",
       "  <tbody>\n",
       "    <tr>\n",
       "      <th>0</th>\n",
       "      <td>-2.666667</td>\n",
       "      <td>-2.666667</td>\n",
       "    </tr>\n",
       "    <tr>\n",
       "      <th>1</th>\n",
       "      <td>-2.666667</td>\n",
       "      <td>-2.666667</td>\n",
       "    </tr>\n",
       "  </tbody>\n",
       "</table>\n",
       "</div>"
      ],
      "text/plain": [
       "          0         1\n",
       "0 -2.666667 -2.666667\n",
       "1 -2.666667 -2.666667"
      ]
     },
     "execution_count": 20,
     "metadata": {},
     "output_type": "execute_result"
    }
   ],
   "source": [
    "import numpy as np\n",
    "def subtract_and_divide(x, sub,multiply, divide=1):\n",
    "    return (x - sub) / divide *multiply\n",
    "\n",
    "\n",
    "df_udf = pd.DataFrame(np.ones((2, 2)))\n",
    "\n",
    "df_udf.apply(subtract_and_divide,args=(3,4,), divide=3)\n"
   ]
  },
  {
   "cell_type": "code",
   "execution_count": 34,
   "id": "75b9131b-94a7-47c6-8fc0-6663d584f992",
   "metadata": {
    "tags": []
   },
   "outputs": [
    {
     "name": "stdout",
     "output_type": "stream",
     "text": [
      "     0    1\n",
      "0 -4.0 -4.0\n",
      "1 -4.0 -4.0\n"
     ]
    }
   ],
   "source": [
    "df=df_udf.apply(subtract_and_divide,args=(3,4,2), result_type=\"expand\")\n",
    "print(df)\n"
   ]
  },
  {
   "cell_type": "code",
   "execution_count": 38,
   "id": "2e050058-2c5a-4fce-ac18-9e1bb543475a",
   "metadata": {
    "tags": []
   },
   "outputs": [
    {
     "data": {
      "text/plain": [
       "0    0\n",
       "1    0\n",
       "dtype: int64"
      ]
     },
     "execution_count": 38,
     "metadata": {},
     "output_type": "execute_result"
    }
   ],
   "source": [
    "df.apply(lambda x:x.idxmax())"
   ]
  },
  {
   "cell_type": "code",
   "execution_count": 39,
   "id": "e3ab9c6c-6278-42c1-a313-4d7b35086c37",
   "metadata": {
    "tags": []
   },
   "outputs": [],
   "source": [
    "tsdf = pd.DataFrame(\n",
    "    np.random.randn(10, 3),\n",
    "    columns=[\"A\", \"B\", \"C\"],\n",
    "    index=pd.date_range(\"1/1/2000\", periods=10),\n",
    ")"
   ]
  },
  {
   "cell_type": "code",
   "execution_count": 40,
   "id": "bcb32e46-1987-43b2-9b27-974b6f4db299",
   "metadata": {
    "tags": []
   },
   "outputs": [
    {
     "name": "stdout",
     "output_type": "stream",
     "text": [
      "                   A         B         C\n",
      "2000-01-01 -0.022930  0.477785  0.898132\n",
      "2000-01-02  0.442777  2.203768  0.238459\n",
      "2000-01-03 -1.249380  0.063576 -1.226809\n",
      "2000-01-04  1.474305 -1.557432 -0.265213\n",
      "2000-01-05  0.016953 -0.753906  1.304719\n",
      "2000-01-06 -0.473417 -0.016816 -2.143398\n",
      "2000-01-07 -0.676966  1.437913 -1.000388\n",
      "2000-01-08  2.318450  0.295045  1.104127\n",
      "2000-01-09  1.149446  2.635088 -0.973794\n",
      "2000-01-10  0.521617  0.049330  0.191145\n"
     ]
    }
   ],
   "source": [
    "print(tsdf)"
   ]
  },
  {
   "cell_type": "code",
   "execution_count": 41,
   "id": "25758d38-bac5-41f2-b998-3dbc5068f7b2",
   "metadata": {
    "tags": []
   },
   "outputs": [
    {
     "data": {
      "text/plain": [
       "A    3.500854\n",
       "B    4.834353\n",
       "C   -1.873020\n",
       "dtype: float64"
      ]
     },
     "execution_count": 41,
     "metadata": {},
     "output_type": "execute_result"
    }
   ],
   "source": [
    "tsdf.agg(\"sum\")"
   ]
  },
  {
   "cell_type": "code",
   "execution_count": 42,
   "id": "d4166a8d-6feb-46e1-b3f0-c956acca357d",
   "metadata": {
    "tags": []
   },
   "outputs": [
    {
     "data": {
      "text/plain": [
       "A    0.350085\n",
       "B    0.483435\n",
       "C   -0.187302\n",
       "dtype: float64"
      ]
     },
     "execution_count": 42,
     "metadata": {},
     "output_type": "execute_result"
    }
   ],
   "source": [
    "tsdf.agg(\"mean\")"
   ]
  },
  {
   "cell_type": "code",
   "execution_count": 43,
   "id": "18fcdb15-81b5-44c8-87a7-98459bc8d86a",
   "metadata": {
    "tags": []
   },
   "outputs": [
    {
     "data": {
      "text/plain": [
       "A    0.000141\n",
       "B   -0.000073\n",
       "C   -0.040065\n",
       "dtype: float64"
      ]
     },
     "execution_count": 43,
     "metadata": {},
     "output_type": "execute_result"
    }
   ],
   "source": [
    "tsdf.agg(\"product\")"
   ]
  },
  {
   "cell_type": "code",
   "execution_count": 45,
   "id": "afaa9a0d-3397-4ae3-8410-1b6b19fc606d",
   "metadata": {
    "tags": []
   },
   "outputs": [
    {
     "data": {
      "text/plain": [
       "A    0.000141\n",
       "B   -0.000073\n",
       "C   -0.040065\n",
       "dtype: float64"
      ]
     },
     "execution_count": 45,
     "metadata": {},
     "output_type": "execute_result"
    }
   ],
   "source": [
    "tsdf.product()"
   ]
  },
  {
   "cell_type": "code",
   "execution_count": 62,
   "id": "d9a35157-9bad-42c7-9630-d03d76a05ceb",
   "metadata": {
    "tags": []
   },
   "outputs": [],
   "source": [
    "agg_df=tsdf.agg([\"sum\",\"mean\"], index=[1,2])"
   ]
  },
  {
   "cell_type": "code",
   "execution_count": 63,
   "id": "04581c0a-b05a-4afb-b975-b403b0d9484c",
   "metadata": {
    "tags": []
   },
   "outputs": [
    {
     "name": "stdout",
     "output_type": "stream",
     "text": [
      "             A         B         C\n",
      "sum   3.500854  4.834353 -1.873020\n",
      "mean  0.350085  0.483435 -0.187302\n"
     ]
    }
   ],
   "source": [
    "print(agg_df)"
   ]
  },
  {
   "cell_type": "code",
   "execution_count": 64,
   "id": "78a7331b-14d1-4950-9677-787a107eb2a4",
   "metadata": {
    "tags": []
   },
   "outputs": [
    {
     "name": "stdout",
     "output_type": "stream",
     "text": [
      "3.5008541318241373\n"
     ]
    },
    {
     "data": {
      "text/plain": [
       "(2, 3)"
      ]
     },
     "execution_count": 64,
     "metadata": {},
     "output_type": "execute_result"
    }
   ],
   "source": [
    "print(agg_df[\"A\"][\"sum\"])\n",
    "agg_df.shape"
   ]
  },
  {
   "cell_type": "code",
   "execution_count": 70,
   "id": "36e3bfe3-64e5-4867-8684-8d996d8c6822",
   "metadata": {
    "tags": []
   },
   "outputs": [
    {
     "name": "stdout",
     "output_type": "stream",
     "text": [
      "A    3.500854\n",
      "B    4.834353\n",
      "C   -1.873020\n",
      "Name: sum, dtype: float64\n"
     ]
    }
   ],
   "source": [
    "print(agg_df.loc[\"sum\",:])"
   ]
  },
  {
   "cell_type": "code",
   "execution_count": 81,
   "id": "34c52e60-fbf9-494b-bbd5-5867bdd145e1",
   "metadata": {
    "tags": []
   },
   "outputs": [
    {
     "data": {
      "text/html": [
       "<div>\n",
       "<style scoped>\n",
       "    .dataframe tbody tr th:only-of-type {\n",
       "        vertical-align: middle;\n",
       "    }\n",
       "\n",
       "    .dataframe tbody tr th {\n",
       "        vertical-align: top;\n",
       "    }\n",
       "\n",
       "    .dataframe thead th {\n",
       "        text-align: right;\n",
       "    }\n",
       "</style>\n",
       "<table border=\"1\" class=\"dataframe\">\n",
       "  <thead>\n",
       "    <tr style=\"text-align: right;\">\n",
       "      <th></th>\n",
       "      <th>A</th>\n",
       "      <th>B</th>\n",
       "    </tr>\n",
       "  </thead>\n",
       "  <tbody>\n",
       "    <tr>\n",
       "      <th>mean</th>\n",
       "      <td>1.925470</td>\n",
       "      <td>NaN</td>\n",
       "    </tr>\n",
       "    <tr>\n",
       "      <th>min</th>\n",
       "      <td>0.350085</td>\n",
       "      <td>NaN</td>\n",
       "    </tr>\n",
       "    <tr>\n",
       "      <th>sum</th>\n",
       "      <td>NaN</td>\n",
       "      <td>5.317788</td>\n",
       "    </tr>\n",
       "  </tbody>\n",
       "</table>\n",
       "</div>"
      ],
      "text/plain": [
       "             A         B\n",
       "mean  1.925470       NaN\n",
       "min   0.350085       NaN\n",
       "sum        NaN  5.317788"
      ]
     },
     "execution_count": 81,
     "metadata": {},
     "output_type": "execute_result"
    }
   ],
   "source": [
    "agg_df.agg({\"A\": [\"mean\", \"min\"], \"B\": \"sum\"}, reset_index=[0,1,2])"
   ]
  },
  {
   "cell_type": "code",
   "execution_count": 79,
   "id": "9c75ccb4-c216-4cfd-9eba-98aba914aa23",
   "metadata": {
    "tags": []
   },
   "outputs": [],
   "source": [
    "dict_agg=agg_df.agg({\"A\": [\"mean\", \"min\"], \"B\": \"sum\"}, reset_index=[0,1,2])"
   ]
  },
  {
   "cell_type": "code",
   "execution_count": 80,
   "id": "6e51b4f8-df9b-430a-bc0b-b61d38a0dd0a",
   "metadata": {
    "tags": []
   },
   "outputs": [
    {
     "name": "stdout",
     "output_type": "stream",
     "text": [
      "Index(['mean', 'min', 'sum'], dtype='object')\n"
     ]
    }
   ],
   "source": [
    "print(dict_agg.index)"
   ]
  },
  {
   "cell_type": "code",
   "execution_count": 86,
   "id": "25cfa078-c2d4-4df1-bb0a-84c8f1690949",
   "metadata": {
    "tags": []
   },
   "outputs": [
    {
     "data": {
      "text/html": [
       "<div>\n",
       "<style scoped>\n",
       "    .dataframe tbody tr th:only-of-type {\n",
       "        vertical-align: middle;\n",
       "    }\n",
       "\n",
       "    .dataframe tbody tr th {\n",
       "        vertical-align: top;\n",
       "    }\n",
       "\n",
       "    .dataframe thead tr th {\n",
       "        text-align: left;\n",
       "    }\n",
       "</style>\n",
       "<table border=\"1\" class=\"dataframe\">\n",
       "  <thead>\n",
       "    <tr>\n",
       "      <th></th>\n",
       "      <th>A</th>\n",
       "      <th>B</th>\n",
       "      <th>C</th>\n",
       "    </tr>\n",
       "    <tr>\n",
       "      <th></th>\n",
       "      <th>abs</th>\n",
       "      <th>abs</th>\n",
       "      <th>abs</th>\n",
       "    </tr>\n",
       "  </thead>\n",
       "  <tbody>\n",
       "    <tr>\n",
       "      <th>2000-01-01</th>\n",
       "      <td>0.022930</td>\n",
       "      <td>0.477785</td>\n",
       "      <td>0.898132</td>\n",
       "    </tr>\n",
       "    <tr>\n",
       "      <th>2000-01-02</th>\n",
       "      <td>0.442777</td>\n",
       "      <td>2.203768</td>\n",
       "      <td>0.238459</td>\n",
       "    </tr>\n",
       "    <tr>\n",
       "      <th>2000-01-03</th>\n",
       "      <td>1.249380</td>\n",
       "      <td>0.063576</td>\n",
       "      <td>1.226809</td>\n",
       "    </tr>\n",
       "    <tr>\n",
       "      <th>2000-01-04</th>\n",
       "      <td>1.474305</td>\n",
       "      <td>1.557432</td>\n",
       "      <td>0.265213</td>\n",
       "    </tr>\n",
       "    <tr>\n",
       "      <th>2000-01-05</th>\n",
       "      <td>0.016953</td>\n",
       "      <td>0.753906</td>\n",
       "      <td>1.304719</td>\n",
       "    </tr>\n",
       "    <tr>\n",
       "      <th>2000-01-06</th>\n",
       "      <td>0.473417</td>\n",
       "      <td>0.016816</td>\n",
       "      <td>2.143398</td>\n",
       "    </tr>\n",
       "    <tr>\n",
       "      <th>2000-01-07</th>\n",
       "      <td>0.676966</td>\n",
       "      <td>1.437913</td>\n",
       "      <td>1.000388</td>\n",
       "    </tr>\n",
       "    <tr>\n",
       "      <th>2000-01-08</th>\n",
       "      <td>2.318450</td>\n",
       "      <td>0.295045</td>\n",
       "      <td>1.104127</td>\n",
       "    </tr>\n",
       "    <tr>\n",
       "      <th>2000-01-09</th>\n",
       "      <td>1.149446</td>\n",
       "      <td>2.635088</td>\n",
       "      <td>0.973794</td>\n",
       "    </tr>\n",
       "    <tr>\n",
       "      <th>2000-01-10</th>\n",
       "      <td>0.521617</td>\n",
       "      <td>0.049330</td>\n",
       "      <td>0.191145</td>\n",
       "    </tr>\n",
       "  </tbody>\n",
       "</table>\n",
       "</div>"
      ],
      "text/plain": [
       "                   A         B         C\n",
       "                 abs       abs       abs\n",
       "2000-01-01  0.022930  0.477785  0.898132\n",
       "2000-01-02  0.442777  2.203768  0.238459\n",
       "2000-01-03  1.249380  0.063576  1.226809\n",
       "2000-01-04  1.474305  1.557432  0.265213\n",
       "2000-01-05  0.016953  0.753906  1.304719\n",
       "2000-01-06  0.473417  0.016816  2.143398\n",
       "2000-01-07  0.676966  1.437913  1.000388\n",
       "2000-01-08  2.318450  0.295045  1.104127\n",
       "2000-01-09  1.149446  2.635088  0.973794\n",
       "2000-01-10  0.521617  0.049330  0.191145"
      ]
     },
     "execution_count": 86,
     "metadata": {},
     "output_type": "execute_result"
    }
   ],
   "source": [
    "tsdf.transform([\"abs\"])"
   ]
  },
  {
   "cell_type": "code",
   "execution_count": 88,
   "id": "3ac47f21-2f86-47b2-ac91-80db53acca7b",
   "metadata": {
    "tags": []
   },
   "outputs": [],
   "source": [
    "def mapping_function(data):\n",
    "    return data**2\n"
   ]
  },
  {
   "cell_type": "code",
   "execution_count": 94,
   "id": "cbd9455e-6ded-4df4-bd4b-91c299ef5f95",
   "metadata": {
    "tags": []
   },
   "outputs": [
    {
     "data": {
      "text/plain": [
       "2000-01-01   -0.045860\n",
       "2000-01-02    0.885553\n",
       "2000-01-03   -2.498760\n",
       "2000-01-04    2.948610\n",
       "2000-01-05    0.033906\n",
       "2000-01-06   -0.946835\n",
       "2000-01-07   -1.353932\n",
       "2000-01-08    4.636899\n",
       "2000-01-09    2.298892\n",
       "2000-01-10    1.043235\n",
       "Freq: D, Name: A, dtype: float64"
      ]
     },
     "execution_count": 94,
     "metadata": {},
     "output_type": "execute_result"
    }
   ],
   "source": [
    "tsdf['A'].map(lambda data:data*2)\n"
   ]
  },
  {
   "cell_type": "code",
   "execution_count": null,
   "id": "ec9d29d9-1436-4147-9427-799af749b47c",
   "metadata": {},
   "outputs": [],
   "source": []
  }
 ],
 "metadata": {
  "kernelspec": {
   "display_name": "Python 3 (ipykernel)",
   "language": "python",
   "name": "python3"
  },
  "language_info": {
   "codemirror_mode": {
    "name": "ipython",
    "version": 3
   },
   "file_extension": ".py",
   "mimetype": "text/x-python",
   "name": "python",
   "nbconvert_exporter": "python",
   "pygments_lexer": "ipython3",
   "version": "3.11.4"
  }
 },
 "nbformat": 4,
 "nbformat_minor": 5
}
