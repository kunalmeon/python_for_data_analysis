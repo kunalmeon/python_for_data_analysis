{
 "cells": [
  {
   "cell_type": "code",
   "execution_count": 4,
   "id": "b12dc248-9c15-479d-a4a4-5abe4f5b5498",
   "metadata": {
    "tags": []
   },
   "outputs": [],
   "source": [
    "import pandas as pd\n",
    "import numpy as np"
   ]
  },
  {
   "cell_type": "code",
   "execution_count": 5,
   "id": "3f9e920c-3493-4a5f-af7b-4ce8425e7e51",
   "metadata": {
    "tags": []
   },
   "outputs": [],
   "source": [
    "df = pd.DataFrame(\n",
    "      {\n",
    "           \"one\": pd.Series(np.random.randn(3), index=[\"a\", \"b\", \"c\"]),\n",
    "            \"two\": pd.Series(np.random.randn(4), index=[\"a\", \"b\", \"c\", \"d\"]),\n",
    "            \"three\": pd.Series(np.random.randn(3), index=[\"b\", \"c\", \"d\"]),\n",
    "      }\n",
    ")\n",
    "\n",
    "\n",
    "\n"
   ]
  },
  {
   "cell_type": "code",
   "execution_count": 6,
   "id": "e63e6cc5-925c-4e3c-a752-d193849f397f",
   "metadata": {
    "tags": []
   },
   "outputs": [
    {
     "name": "stdout",
     "output_type": "stream",
     "text": [
      "The row value is one     -0.894396\n",
      "two      1.856297\n",
      "three    1.133479\n",
      "Name: b, dtype: float64\n",
      "\n",
      " THe column value is  a   -0.663895\n",
      "b    1.856297\n",
      "c   -0.352081\n",
      "d    0.571154\n",
      "Name: two, dtype: float64\n",
      "\n",
      " After substracting the value         one       two     three\n",
      "a -0.384334 -0.663895       NaN\n",
      "b -0.894396  1.856297  1.133479\n",
      "c  0.587676 -0.352081 -0.689864\n",
      "d       NaN  0.571154  0.482312\n",
      "\n",
      "the data frame\n",
      "        one       two     three\n",
      "a -0.384334 -0.663895       NaN\n",
      "b -0.894396  1.856297  1.133479\n",
      "c  0.587676 -0.352081 -0.689864\n",
      "d       NaN  0.571154  0.482312\n"
     ]
    }
   ],
   "source": [
    "row = df.iloc[1]\n",
    "print(\"The row value is\", row)\n",
    "\n",
    "column = df[\"two\"]\n",
    "print(\"\\n THe column value is \", column)\n",
    "\n",
    "df.sub(row, axis=\"columns\")\n",
    "print(\"\\n After substracting the value\", df)\n",
    "df.sub(row, axis=1)\n",
    "\n",
    "df.sub(column, axis=\"index\")\n",
    "\n",
    "df.sub(column, axis=0)\n",
    "print(\"\\nthe data frame\")\n",
    "print(df)"
   ]
  },
  {
   "cell_type": "code",
   "execution_count": 15,
   "id": "d89b3ea1-c407-4d3a-b9e7-ee9400e090df",
   "metadata": {
    "tags": []
   },
   "outputs": [],
   "source": [
    "dfmi = df.copy()"
   ]
  },
  {
   "cell_type": "code",
   "execution_count": 16,
   "id": "e117ea8e-0d8f-4d10-8aa3-74809f0db07f",
   "metadata": {
    "tags": []
   },
   "outputs": [
    {
     "name": "stdout",
     "output_type": "stream",
     "text": [
      "        one       two     three\n",
      "a -0.384334 -0.663895       NaN\n",
      "b -0.894396  1.856297  1.133479\n",
      "c  0.587676 -0.352081 -0.689864\n",
      "d       NaN  0.571154  0.482312\n"
     ]
    }
   ],
   "source": [
    "print(dfmi)"
   ]
  },
  {
   "cell_type": "code",
   "execution_count": 17,
   "id": "70825ad7-18ad-40c6-8325-862557b38e29",
   "metadata": {
    "tags": []
   },
   "outputs": [],
   "source": [
    "dfmi.index = pd.MultiIndex.from_tuples(\n",
    "    [(1, \"a\"), (1, \"b\"), (1, \"c\"), (2, \"a\")], names=[\"first\", \"second\"]\n",
    ")"
   ]
  },
  {
   "cell_type": "code",
   "execution_count": 18,
   "id": "40154d8c-4d53-4416-ad54-9e583b60509e",
   "metadata": {
    "tags": []
   },
   "outputs": [
    {
     "name": "stdout",
     "output_type": "stream",
     "text": [
      "                   one       two     three\n",
      "first second                              \n",
      "1     a      -0.384334 -0.663895       NaN\n",
      "      b      -0.894396  1.856297  1.133479\n",
      "      c       0.587676 -0.352081 -0.689864\n",
      "2     a            NaN  0.571154  0.482312\n"
     ]
    }
   ],
   "source": [
    "print(dfmi)"
   ]
  },
  {
   "cell_type": "code",
   "execution_count": 20,
   "id": "0c50d4e4-9a72-4ca5-8f7d-504ada375965",
   "metadata": {
    "tags": []
   },
   "outputs": [
    {
     "name": "stdout",
     "output_type": "stream",
     "text": [
      "                   one       two     three\n",
      "first second                              \n",
      "1     a       0.279561  0.000000       NaN\n",
      "      b      -2.750693  0.000000 -0.722818\n",
      "      c       0.939757  0.000000 -0.337783\n",
      "2     a            NaN  1.235049  1.146208\n"
     ]
    }
   ],
   "source": [
    "dfmi=dfmi.sub(column, axis=0, level=\"second\")\n",
    "print(dfmi)\n"
   ]
  },
  {
   "cell_type": "code",
   "execution_count": 22,
   "id": "e98398a2-41e1-49d3-a384-b553c96d145a",
   "metadata": {
    "tags": []
   },
   "outputs": [
    {
     "name": "stdout",
     "output_type": "stream",
     "text": [
      "False\n"
     ]
    }
   ],
   "source": [
    "print(dfmi.equals(5))"
   ]
  },
  {
   "cell_type": "code",
   "execution_count": 27,
   "id": "a9c477da-2343-42ac-83b1-e38d3989fab2",
   "metadata": {
    "tags": []
   },
   "outputs": [],
   "source": [
    "df1 = pd.DataFrame(\n",
    "    {\"A\": [1.0, np.nan, 3.0, 5.0, np.nan], \"B\": [np.nan, 2.0, 3.0, np.nan, 6.0]}\n",
    ")"
   ]
  },
  {
   "cell_type": "code",
   "execution_count": 28,
   "id": "ebbb9f8b-b9d4-4fde-95e6-d3f0d2299185",
   "metadata": {
    "tags": []
   },
   "outputs": [],
   "source": [
    "df2 = pd.DataFrame(\n",
    "    {\n",
    "        \"A\": [5.0, 2.0, 4.0, np.nan, 3.0, 7.0],\n",
    "        \"B\": [np.nan, np.nan, 3.0, 4.0, 6.0, 8.0],\n",
    "    }\n",
    ")"
   ]
  },
  {
   "cell_type": "code",
   "execution_count": 30,
   "id": "537a2f72-556a-400b-9a57-cd0b16b07ef4",
   "metadata": {
    "tags": []
   },
   "outputs": [
    {
     "data": {
      "text/html": [
       "<div>\n",
       "<style scoped>\n",
       "    .dataframe tbody tr th:only-of-type {\n",
       "        vertical-align: middle;\n",
       "    }\n",
       "\n",
       "    .dataframe tbody tr th {\n",
       "        vertical-align: top;\n",
       "    }\n",
       "\n",
       "    .dataframe thead th {\n",
       "        text-align: right;\n",
       "    }\n",
       "</style>\n",
       "<table border=\"1\" class=\"dataframe\">\n",
       "  <thead>\n",
       "    <tr style=\"text-align: right;\">\n",
       "      <th></th>\n",
       "      <th>A</th>\n",
       "      <th>B</th>\n",
       "    </tr>\n",
       "  </thead>\n",
       "  <tbody>\n",
       "    <tr>\n",
       "      <th>0</th>\n",
       "      <td>1.0</td>\n",
       "      <td>NaN</td>\n",
       "    </tr>\n",
       "    <tr>\n",
       "      <th>1</th>\n",
       "      <td>2.0</td>\n",
       "      <td>2.0</td>\n",
       "    </tr>\n",
       "    <tr>\n",
       "      <th>2</th>\n",
       "      <td>3.0</td>\n",
       "      <td>3.0</td>\n",
       "    </tr>\n",
       "    <tr>\n",
       "      <th>3</th>\n",
       "      <td>5.0</td>\n",
       "      <td>4.0</td>\n",
       "    </tr>\n",
       "    <tr>\n",
       "      <th>4</th>\n",
       "      <td>3.0</td>\n",
       "      <td>6.0</td>\n",
       "    </tr>\n",
       "    <tr>\n",
       "      <th>5</th>\n",
       "      <td>7.0</td>\n",
       "      <td>8.0</td>\n",
       "    </tr>\n",
       "  </tbody>\n",
       "</table>\n",
       "</div>"
      ],
      "text/plain": [
       "     A    B\n",
       "0  1.0  NaN\n",
       "1  2.0  2.0\n",
       "2  3.0  3.0\n",
       "3  5.0  4.0\n",
       "4  3.0  6.0\n",
       "5  7.0  8.0"
      ]
     },
     "execution_count": 30,
     "metadata": {},
     "output_type": "execute_result"
    }
   ],
   "source": [
    "df1.combine_first(df2)"
   ]
  },
  {
   "cell_type": "code",
   "execution_count": null,
   "id": "d225469d-64d5-4e12-ae4b-a620c11f0887",
   "metadata": {},
   "outputs": [],
   "source": [
    "df2.combine_first"
   ]
  }
 ],
 "metadata": {
  "kernelspec": {
   "display_name": "Python 3 (ipykernel)",
   "language": "python",
   "name": "python3"
  },
  "language_info": {
   "codemirror_mode": {
    "name": "ipython",
    "version": 3
   },
   "file_extension": ".py",
   "mimetype": "text/x-python",
   "name": "python",
   "nbconvert_exporter": "python",
   "pygments_lexer": "ipython3",
   "version": "3.11.4"
  }
 },
 "nbformat": 4,
 "nbformat_minor": 5
}
