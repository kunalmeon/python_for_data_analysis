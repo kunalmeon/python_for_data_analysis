{
 "cells": [
  {
   "cell_type": "code",
   "execution_count": 2,
   "id": "97520932-2f52-4f32-9978-2988c1dd82b3",
   "metadata": {
    "tags": []
   },
   "outputs": [],
   "source": [
    "import numpy as np\n",
    "import pandas as pd\n",
    "pd.options.display.max_columns = 20\n",
    "pd.options.display.max_rows = 20\n",
    "pd.options.display.max_colwidth = 80\n",
    "np.set_printoptions(precision=4, suppress=True)\n"
   ]
  },
  {
   "cell_type": "code",
   "execution_count": 3,
   "id": "430913e6-5211-4aae-9e59-1eb04e213c11",
   "metadata": {
    "tags": []
   },
   "outputs": [
    {
     "name": "stdout",
     "output_type": "stream",
     "text": [
      "Hello World\n"
     ]
    }
   ],
   "source": [
    "print(\"Hello World\")"
   ]
  },
  {
   "cell_type": "code",
   "execution_count": 4,
   "id": "bcd9fcd0-0d9f-46e1-9ecf-1bd1cda15cae",
   "metadata": {
    "tags": []
   },
   "outputs": [
    {
     "data": {
      "text/plain": [
       "[1.756858178567715,\n",
       " 1.5653542136960839,\n",
       " 0.6134320908605361,\n",
       " 1.5215338125077102,\n",
       " -0.5712995987066354,\n",
       " 0.09540600211626059,\n",
       " 0.0825446778598739]"
      ]
     },
     "execution_count": 4,
     "metadata": {},
     "output_type": "execute_result"
    }
   ],
   "source": [
    "data=[np.random.standard_normal() for i in range(7)]\n",
    "data"
   ]
  },
  {
   "cell_type": "code",
   "execution_count": 5,
   "id": "c084714a-6436-45aa-999b-176a91c6f156",
   "metadata": {
    "tags": []
   },
   "outputs": [
    {
     "data": {
      "text/plain": [
       "[25]"
      ]
     },
     "execution_count": 5,
     "metadata": {},
     "output_type": "execute_result"
    },
    {
     "data": {
      "text/plain": [
       "\u001b[1;31mType:\u001b[0m        list\n",
       "\u001b[1;31mString form:\u001b[0m [25]\n",
       "\u001b[1;31mLength:\u001b[0m      1\n",
       "\u001b[1;31mDocstring:\u001b[0m  \n",
       "Built-in mutable sequence.\n",
       "\n",
       "If no argument is given, the constructor creates a new empty list.\n",
       "The argument must be an iterable if specified."
      ]
     },
     "metadata": {},
     "output_type": "display_data"
    }
   ],
   "source": [
    "list_a=[i**2 for i in range(7) if i>4 and i==5]\n",
    "list_a?\n",
    "list_a"
   ]
  },
  {
   "cell_type": "markdown",
   "id": "2078727d-2b6c-40fc-ae6c-3059616e27fa",
   "metadata": {},
   "source": [
    "## Getting Explaination about command using ? sing"
   ]
  },
  {
   "cell_type": "code",
   "execution_count": 6,
   "id": "d984aa35-0a74-4d38-8670-a54ec43cbbb4",
   "metadata": {
    "tags": []
   },
   "outputs": [
    {
     "data": {
      "text/plain": [
       "\u001b[1;31mType:\u001b[0m        module\n",
       "\u001b[1;31mString form:\u001b[0m <module 'pandas' from 'C:\\\\Users\\\\Kunal\\\\anaconda3\\\\Lib\\\\site-packages\\\\pandas\\\\__init__.py'>\n",
       "\u001b[1;31mFile:\u001b[0m        c:\\users\\kunal\\anaconda3\\lib\\site-packages\\pandas\\__init__.py\n",
       "\u001b[1;31mDocstring:\u001b[0m  \n",
       "pandas - a powerful data analysis and manipulation library for Python\n",
       "=====================================================================\n",
       "\n",
       "**pandas** is a Python package providing fast, flexible, and expressive data\n",
       "structures designed to make working with \"relational\" or \"labeled\" data both\n",
       "easy and intuitive. It aims to be the fundamental high-level building block for\n",
       "doing practical, **real world** data analysis in Python. Additionally, it has\n",
       "the broader goal of becoming **the most powerful and flexible open source data\n",
       "analysis / manipulation tool available in any language**. It is already well on\n",
       "its way toward this goal.\n",
       "\n",
       "Main Features\n",
       "-------------\n",
       "Here are just a few of the things that pandas does well:\n",
       "\n",
       "  - Easy handling of missing data in floating point as well as non-floating\n",
       "    point data.\n",
       "  - Size mutability: columns can be inserted and deleted from DataFrame and\n",
       "    higher dimensional objects\n",
       "  - Automatic and explicit data alignment: objects can be explicitly aligned\n",
       "    to a set of labels, or the user can simply ignore the labels and let\n",
       "    `Series`, `DataFrame`, etc. automatically align the data for you in\n",
       "    computations.\n",
       "  - Powerful, flexible group by functionality to perform split-apply-combine\n",
       "    operations on data sets, for both aggregating and transforming data.\n",
       "  - Make it easy to convert ragged, differently-indexed data in other Python\n",
       "    and NumPy data structures into DataFrame objects.\n",
       "  - Intelligent label-based slicing, fancy indexing, and subsetting of large\n",
       "    data sets.\n",
       "  - Intuitive merging and joining data sets.\n",
       "  - Flexible reshaping and pivoting of data sets.\n",
       "  - Hierarchical labeling of axes (possible to have multiple labels per tick).\n",
       "  - Robust IO tools for loading data from flat files (CSV and delimited),\n",
       "    Excel files, databases, and saving/loading data from the ultrafast HDF5\n",
       "    format.\n",
       "  - Time series-specific functionality: date range generation and frequency\n",
       "    conversion, moving window statistics, date shifting and lagging."
      ]
     },
     "metadata": {},
     "output_type": "display_data"
    }
   ],
   "source": [
    "pd?"
   ]
  },
  {
   "cell_type": "code",
   "execution_count": 7,
   "id": "fa28b0cc-4016-4f7d-9355-97cad1312129",
   "metadata": {
    "tags": []
   },
   "outputs": [
    {
     "data": {
      "text/plain": [
       "np.__loader__\n",
       "np.load\n",
       "np.loadtxt"
      ]
     },
     "metadata": {},
     "output_type": "display_data"
    }
   ],
   "source": [
    "np.*load*?"
   ]
  },
  {
   "cell_type": "code",
   "execution_count": 8,
   "id": "32d55aa2-3b14-4af5-aa64-2f0c0514cdb1",
   "metadata": {
    "tags": []
   },
   "outputs": [
    {
     "data": {
      "text/plain": [
       "\u001b[1;31mSignature:\u001b[0m\n",
       "\u001b[0mnp\u001b[0m\u001b[1;33m.\u001b[0m\u001b[0mloadtxt\u001b[0m\u001b[1;33m(\u001b[0m\u001b[1;33m\n",
       "\u001b[0m    \u001b[0mfname\u001b[0m\u001b[1;33m,\u001b[0m\u001b[1;33m\n",
       "\u001b[0m    \u001b[0mdtype\u001b[0m\u001b[1;33m=\u001b[0m\u001b[1;33m<\u001b[0m\u001b[1;32mclass\u001b[0m \u001b[1;34m'float'\u001b[0m\u001b[1;33m>\u001b[0m\u001b[1;33m,\u001b[0m\u001b[1;33m\n",
       "\u001b[0m    \u001b[0mcomments\u001b[0m\u001b[1;33m=\u001b[0m\u001b[1;34m'#'\u001b[0m\u001b[1;33m,\u001b[0m\u001b[1;33m\n",
       "\u001b[0m    \u001b[0mdelimiter\u001b[0m\u001b[1;33m=\u001b[0m\u001b[1;32mNone\u001b[0m\u001b[1;33m,\u001b[0m\u001b[1;33m\n",
       "\u001b[0m    \u001b[0mconverters\u001b[0m\u001b[1;33m=\u001b[0m\u001b[1;32mNone\u001b[0m\u001b[1;33m,\u001b[0m\u001b[1;33m\n",
       "\u001b[0m    \u001b[0mskiprows\u001b[0m\u001b[1;33m=\u001b[0m\u001b[1;36m0\u001b[0m\u001b[1;33m,\u001b[0m\u001b[1;33m\n",
       "\u001b[0m    \u001b[0musecols\u001b[0m\u001b[1;33m=\u001b[0m\u001b[1;32mNone\u001b[0m\u001b[1;33m,\u001b[0m\u001b[1;33m\n",
       "\u001b[0m    \u001b[0munpack\u001b[0m\u001b[1;33m=\u001b[0m\u001b[1;32mFalse\u001b[0m\u001b[1;33m,\u001b[0m\u001b[1;33m\n",
       "\u001b[0m    \u001b[0mndmin\u001b[0m\u001b[1;33m=\u001b[0m\u001b[1;36m0\u001b[0m\u001b[1;33m,\u001b[0m\u001b[1;33m\n",
       "\u001b[0m    \u001b[0mencoding\u001b[0m\u001b[1;33m=\u001b[0m\u001b[1;34m'bytes'\u001b[0m\u001b[1;33m,\u001b[0m\u001b[1;33m\n",
       "\u001b[0m    \u001b[0mmax_rows\u001b[0m\u001b[1;33m=\u001b[0m\u001b[1;32mNone\u001b[0m\u001b[1;33m,\u001b[0m\u001b[1;33m\n",
       "\u001b[0m    \u001b[1;33m*\u001b[0m\u001b[1;33m,\u001b[0m\u001b[1;33m\n",
       "\u001b[0m    \u001b[0mquotechar\u001b[0m\u001b[1;33m=\u001b[0m\u001b[1;32mNone\u001b[0m\u001b[1;33m,\u001b[0m\u001b[1;33m\n",
       "\u001b[0m    \u001b[0mlike\u001b[0m\u001b[1;33m=\u001b[0m\u001b[1;32mNone\u001b[0m\u001b[1;33m,\u001b[0m\u001b[1;33m\n",
       "\u001b[0m\u001b[1;33m)\u001b[0m\u001b[1;33m\u001b[0m\u001b[1;33m\u001b[0m\u001b[0m\n",
       "\u001b[1;31mDocstring:\u001b[0m\n",
       "Load data from a text file.\n",
       "\n",
       "Parameters\n",
       "----------\n",
       "fname : file, str, pathlib.Path, list of str, generator\n",
       "    File, filename, list, or generator to read.  If the filename\n",
       "    extension is ``.gz`` or ``.bz2``, the file is first decompressed. Note\n",
       "    that generators must return bytes or strings. The strings\n",
       "    in a list or produced by a generator are treated as lines.\n",
       "dtype : data-type, optional\n",
       "    Data-type of the resulting array; default: float.  If this is a\n",
       "    structured data-type, the resulting array will be 1-dimensional, and\n",
       "    each row will be interpreted as an element of the array.  In this\n",
       "    case, the number of columns used must match the number of fields in\n",
       "    the data-type.\n",
       "comments : str or sequence of str or None, optional\n",
       "    The characters or list of characters used to indicate the start of a\n",
       "    comment. None implies no comments. For backwards compatibility, byte\n",
       "    strings will be decoded as 'latin1'. The default is '#'.\n",
       "delimiter : str, optional\n",
       "    The character used to separate the values. For backwards compatibility,\n",
       "    byte strings will be decoded as 'latin1'. The default is whitespace.\n",
       "\n",
       "    .. versionchanged:: 1.23.0\n",
       "       Only single character delimiters are supported. Newline characters\n",
       "       cannot be used as the delimiter.\n",
       "\n",
       "converters : dict or callable, optional\n",
       "    Converter functions to customize value parsing. If `converters` is\n",
       "    callable, the function is applied to all columns, else it must be a\n",
       "    dict that maps column number to a parser function.\n",
       "    See examples for further details.\n",
       "    Default: None.\n",
       "\n",
       "    .. versionchanged:: 1.23.0\n",
       "       The ability to pass a single callable to be applied to all columns\n",
       "       was added.\n",
       "\n",
       "skiprows : int, optional\n",
       "    Skip the first `skiprows` lines, including comments; default: 0.\n",
       "usecols : int or sequence, optional\n",
       "    Which columns to read, with 0 being the first. For example,\n",
       "    ``usecols = (1,4,5)`` will extract the 2nd, 5th and 6th columns.\n",
       "    The default, None, results in all columns being read.\n",
       "\n",
       "    .. versionchanged:: 1.11.0\n",
       "        When a single column has to be read it is possible to use\n",
       "        an integer instead of a tuple. E.g ``usecols = 3`` reads the\n",
       "        fourth column the same way as ``usecols = (3,)`` would.\n",
       "unpack : bool, optional\n",
       "    If True, the returned array is transposed, so that arguments may be\n",
       "    unpacked using ``x, y, z = loadtxt(...)``.  When used with a\n",
       "    structured data-type, arrays are returned for each field.\n",
       "    Default is False.\n",
       "ndmin : int, optional\n",
       "    The returned array will have at least `ndmin` dimensions.\n",
       "    Otherwise mono-dimensional axes will be squeezed.\n",
       "    Legal values: 0 (default), 1 or 2.\n",
       "\n",
       "    .. versionadded:: 1.6.0\n",
       "encoding : str, optional\n",
       "    Encoding used to decode the inputfile. Does not apply to input streams.\n",
       "    The special value 'bytes' enables backward compatibility workarounds\n",
       "    that ensures you receive byte arrays as results if possible and passes\n",
       "    'latin1' encoded strings to converters. Override this value to receive\n",
       "    unicode arrays and pass strings as input to converters.  If set to None\n",
       "    the system default is used. The default value is 'bytes'.\n",
       "\n",
       "    .. versionadded:: 1.14.0\n",
       "max_rows : int, optional\n",
       "    Read `max_rows` rows of content after `skiprows` lines. The default is\n",
       "    to read all the rows. Note that empty rows containing no data such as\n",
       "    empty lines and comment lines are not counted towards `max_rows`,\n",
       "    while such lines are counted in `skiprows`.\n",
       "\n",
       "    .. versionadded:: 1.16.0\n",
       "    \n",
       "    .. versionchanged:: 1.23.0\n",
       "        Lines containing no data, including comment lines (e.g., lines \n",
       "        starting with '#' or as specified via `comments`) are not counted \n",
       "        towards `max_rows`.\n",
       "quotechar : unicode character or None, optional\n",
       "    The character used to denote the start and end of a quoted item.\n",
       "    Occurrences of the delimiter or comment characters are ignored within\n",
       "    a quoted item. The default value is ``quotechar=None``, which means\n",
       "    quoting support is disabled.\n",
       "\n",
       "    If two consecutive instances of `quotechar` are found within a quoted\n",
       "    field, the first is treated as an escape character. See examples.\n",
       "\n",
       "    .. versionadded:: 1.23.0\n",
       "like : array_like, optional\n",
       "    Reference object to allow the creation of arrays which are not\n",
       "    NumPy arrays. If an array-like passed in as ``like`` supports\n",
       "    the ``__array_function__`` protocol, the result will be defined\n",
       "    by it. In this case, it ensures the creation of an array object\n",
       "    compatible with that passed in via this argument.\n",
       "\n",
       "    .. versionadded:: 1.20.0\n",
       "\n",
       "Returns\n",
       "-------\n",
       "out : ndarray\n",
       "    Data read from the text file.\n",
       "\n",
       "See Also\n",
       "--------\n",
       "load, fromstring, fromregex\n",
       "genfromtxt : Load data with missing values handled as specified.\n",
       "scipy.io.loadmat : reads MATLAB data files\n",
       "\n",
       "Notes\n",
       "-----\n",
       "This function aims to be a fast reader for simply formatted files.  The\n",
       "`genfromtxt` function provides more sophisticated handling of, e.g.,\n",
       "lines with missing values.\n",
       "\n",
       "Each row in the input text file must have the same number of values to be\n",
       "able to read all values. If all rows do not have same number of values, a\n",
       "subset of up to n columns (where n is the least number of values present\n",
       "in all rows) can be read by specifying the columns via `usecols`.\n",
       "\n",
       ".. versionadded:: 1.10.0\n",
       "\n",
       "The strings produced by the Python float.hex method can be used as\n",
       "input for floats.\n",
       "\n",
       "Examples\n",
       "--------\n",
       ">>> from io import StringIO   # StringIO behaves like a file object\n",
       ">>> c = StringIO(\"0 1\\n2 3\")\n",
       ">>> np.loadtxt(c)\n",
       "array([[0., 1.],\n",
       "       [2., 3.]])\n",
       "\n",
       ">>> d = StringIO(\"M 21 72\\nF 35 58\")\n",
       ">>> np.loadtxt(d, dtype={'names': ('gender', 'age', 'weight'),\n",
       "...                      'formats': ('S1', 'i4', 'f4')})\n",
       "array([(b'M', 21, 72.), (b'F', 35, 58.)],\n",
       "      dtype=[('gender', 'S1'), ('age', '<i4'), ('weight', '<f4')])\n",
       "\n",
       ">>> c = StringIO(\"1,0,2\\n3,0,4\")\n",
       ">>> x, y = np.loadtxt(c, delimiter=',', usecols=(0, 2), unpack=True)\n",
       ">>> x\n",
       "array([1., 3.])\n",
       ">>> y\n",
       "array([2., 4.])\n",
       "\n",
       "The `converters` argument is used to specify functions to preprocess the\n",
       "text prior to parsing. `converters` can be a dictionary that maps\n",
       "preprocessing functions to each column:\n",
       "\n",
       ">>> s = StringIO(\"1.618, 2.296\\n3.141, 4.669\\n\")\n",
       ">>> conv = {\n",
       "...     0: lambda x: np.floor(float(x)),  # conversion fn for column 0\n",
       "...     1: lambda x: np.ceil(float(x)),  # conversion fn for column 1\n",
       "... }\n",
       ">>> np.loadtxt(s, delimiter=\",\", converters=conv)\n",
       "array([[1., 3.],\n",
       "       [3., 5.]])\n",
       "\n",
       "`converters` can be a callable instead of a dictionary, in which case it\n",
       "is applied to all columns:\n",
       "\n",
       ">>> s = StringIO(\"0xDE 0xAD\\n0xC0 0xDE\")\n",
       ">>> import functools\n",
       ">>> conv = functools.partial(int, base=16)\n",
       ">>> np.loadtxt(s, converters=conv)\n",
       "array([[222., 173.],\n",
       "       [192., 222.]])\n",
       "\n",
       "This example shows how `converters` can be used to convert a field\n",
       "with a trailing minus sign into a negative number.\n",
       "\n",
       ">>> s = StringIO('10.01 31.25-\\n19.22 64.31\\n17.57- 63.94')\n",
       ">>> def conv(fld):\n",
       "...     return -float(fld[:-1]) if fld.endswith(b'-') else float(fld)\n",
       "...\n",
       ">>> np.loadtxt(s, converters=conv)\n",
       "array([[ 10.01, -31.25],\n",
       "       [ 19.22,  64.31],\n",
       "       [-17.57,  63.94]])\n",
       "\n",
       "Using a callable as the converter can be particularly useful for handling\n",
       "values with different formatting, e.g. floats with underscores:\n",
       "\n",
       ">>> s = StringIO(\"1 2.7 100_000\")\n",
       ">>> np.loadtxt(s, converters=float)\n",
       "array([1.e+00, 2.7e+00, 1.e+05])\n",
       "\n",
       "This idea can be extended to automatically handle values specified in\n",
       "many different formats:\n",
       "\n",
       ">>> def conv(val):\n",
       "...     try:\n",
       "...         return float(val)\n",
       "...     except ValueError:\n",
       "...         return float.fromhex(val)\n",
       ">>> s = StringIO(\"1, 2.5, 3_000, 0b4, 0x1.4000000000000p+2\")\n",
       ">>> np.loadtxt(s, delimiter=\",\", converters=conv, encoding=None)\n",
       "array([1.0e+00, 2.5e+00, 3.0e+03, 1.8e+02, 5.0e+00])\n",
       "\n",
       "Note that with the default ``encoding=\"bytes\"``, the inputs to the\n",
       "converter function are latin-1 encoded byte strings. To deactivate the\n",
       "implicit encoding prior to conversion, use ``encoding=None``\n",
       "\n",
       ">>> s = StringIO('10.01 31.25-\\n19.22 64.31\\n17.57- 63.94')\n",
       ">>> conv = lambda x: -float(x[:-1]) if x.endswith('-') else float(x)\n",
       ">>> np.loadtxt(s, converters=conv, encoding=None)\n",
       "array([[ 10.01, -31.25],\n",
       "       [ 19.22,  64.31],\n",
       "       [-17.57,  63.94]])\n",
       "\n",
       "Support for quoted fields is enabled with the `quotechar` parameter.\n",
       "Comment and delimiter characters are ignored when they appear within a\n",
       "quoted item delineated by `quotechar`:\n",
       "\n",
       ">>> s = StringIO('\"alpha, #42\", 10.0\\n\"beta, #64\", 2.0\\n')\n",
       ">>> dtype = np.dtype([(\"label\", \"U12\"), (\"value\", float)])\n",
       ">>> np.loadtxt(s, dtype=dtype, delimiter=\",\", quotechar='\"')\n",
       "array([('alpha, #42', 10.), ('beta, #64',  2.)],\n",
       "      dtype=[('label', '<U12'), ('value', '<f8')])\n",
       "\n",
       "Quoted fields can be separated by multiple whitespace characters:\n",
       "\n",
       ">>> s = StringIO('\"alpha, #42\"       10.0\\n\"beta, #64\" 2.0\\n')\n",
       ">>> dtype = np.dtype([(\"label\", \"U12\"), (\"value\", float)])\n",
       ">>> np.loadtxt(s, dtype=dtype, delimiter=None, quotechar='\"')\n",
       "array([('alpha, #42', 10.), ('beta, #64',  2.)],\n",
       "      dtype=[('label', '<U12'), ('value', '<f8')])\n",
       "\n",
       "Two consecutive quote characters within a quoted field are treated as a\n",
       "single escaped character:\n",
       "\n",
       ">>> s = StringIO('\"Hello, my name is \"\"Monty\"\"!\"')\n",
       ">>> np.loadtxt(s, dtype=\"U\", delimiter=\",\", quotechar='\"')\n",
       "array('Hello, my name is \"Monty\"!', dtype='<U26')\n",
       "\n",
       "Read subset of columns when all rows do not contain equal number of values:\n",
       "\n",
       ">>> d = StringIO(\"1 2\\n2 4\\n3 9 12\\n4 16 20\")\n",
       ">>> np.loadtxt(d, usecols=(0, 1))\n",
       "array([[ 1.,  2.],\n",
       "       [ 2.,  4.],\n",
       "       [ 3.,  9.],\n",
       "       [ 4., 16.]])\n",
       "\u001b[1;31mFile:\u001b[0m      c:\\users\\kunal\\anaconda3\\lib\\site-packages\\numpy\\lib\\npyio.py\n",
       "\u001b[1;31mType:\u001b[0m      function"
      ]
     },
     "metadata": {},
     "output_type": "display_data"
    }
   ],
   "source": [
    "np.loadtxt?"
   ]
  },
  {
   "cell_type": "code",
   "execution_count": 9,
   "id": "de28264a-b17b-4726-b4a3-bd52f4471de6",
   "metadata": {
    "tags": []
   },
   "outputs": [
    {
     "name": "stderr",
     "output_type": "stream",
     "text": [
      "C:\\Users\\Kunal\\anaconda3\\Lib\\site-packages\\IPython\\utils\\wildcard.py:70: FutureWarning: pandas.Float64Index is deprecated and will be removed from pandas in a future version. Use pandas.Index with the appropriate dtype instead.\n",
      "  ns[key] = getattr(obj, key)\n",
      "C:\\Users\\Kunal\\anaconda3\\Lib\\site-packages\\IPython\\utils\\wildcard.py:70: FutureWarning: pandas.Int64Index is deprecated and will be removed from pandas in a future version. Use pandas.Index with the appropriate dtype instead.\n",
      "  ns[key] = getattr(obj, key)\n",
      "C:\\Users\\Kunal\\anaconda3\\Lib\\site-packages\\IPython\\utils\\wildcard.py:70: FutureWarning: pandas.UInt64Index is deprecated and will be removed from pandas in a future version. Use pandas.Index with the appropriate dtype instead.\n",
      "  ns[key] = getattr(obj, key)\n"
     ]
    },
    {
     "data": {
      "text/plain": [
       "pd.DataFrame"
      ]
     },
     "metadata": {},
     "output_type": "display_data"
    }
   ],
   "source": [
    "pd.*Data*?"
   ]
  },
  {
   "cell_type": "code",
   "execution_count": 10,
   "id": "a03d4e43-1b39-4e3c-b08b-f14b0bcb4db2",
   "metadata": {
    "tags": []
   },
   "outputs": [
    {
     "data": {
      "text/plain": [
       "\u001b[1;31mInit signature:\u001b[0m\n",
       "\u001b[0mpd\u001b[0m\u001b[1;33m.\u001b[0m\u001b[0mDataFrame\u001b[0m\u001b[1;33m(\u001b[0m\u001b[1;33m\n",
       "\u001b[0m    \u001b[0mdata\u001b[0m\u001b[1;33m=\u001b[0m\u001b[1;32mNone\u001b[0m\u001b[1;33m,\u001b[0m\u001b[1;33m\n",
       "\u001b[0m    \u001b[0mindex\u001b[0m\u001b[1;33m:\u001b[0m \u001b[1;34m'Axes | None'\u001b[0m \u001b[1;33m=\u001b[0m \u001b[1;32mNone\u001b[0m\u001b[1;33m,\u001b[0m\u001b[1;33m\n",
       "\u001b[0m    \u001b[0mcolumns\u001b[0m\u001b[1;33m:\u001b[0m \u001b[1;34m'Axes | None'\u001b[0m \u001b[1;33m=\u001b[0m \u001b[1;32mNone\u001b[0m\u001b[1;33m,\u001b[0m\u001b[1;33m\n",
       "\u001b[0m    \u001b[0mdtype\u001b[0m\u001b[1;33m:\u001b[0m \u001b[1;34m'Dtype | None'\u001b[0m \u001b[1;33m=\u001b[0m \u001b[1;32mNone\u001b[0m\u001b[1;33m,\u001b[0m\u001b[1;33m\n",
       "\u001b[0m    \u001b[0mcopy\u001b[0m\u001b[1;33m:\u001b[0m \u001b[1;34m'bool | None'\u001b[0m \u001b[1;33m=\u001b[0m \u001b[1;32mNone\u001b[0m\u001b[1;33m,\u001b[0m\u001b[1;33m\n",
       "\u001b[0m\u001b[1;33m)\u001b[0m \u001b[1;33m->\u001b[0m \u001b[1;34m'None'\u001b[0m\u001b[1;33m\u001b[0m\u001b[1;33m\u001b[0m\u001b[0m\n",
       "\u001b[1;31mDocstring:\u001b[0m     \n",
       "Two-dimensional, size-mutable, potentially heterogeneous tabular data.\n",
       "\n",
       "Data structure also contains labeled axes (rows and columns).\n",
       "Arithmetic operations align on both row and column labels. Can be\n",
       "thought of as a dict-like container for Series objects. The primary\n",
       "pandas data structure.\n",
       "\n",
       "Parameters\n",
       "----------\n",
       "data : ndarray (structured or homogeneous), Iterable, dict, or DataFrame\n",
       "    Dict can contain Series, arrays, constants, dataclass or list-like objects. If\n",
       "    data is a dict, column order follows insertion-order. If a dict contains Series\n",
       "    which have an index defined, it is aligned by its index.\n",
       "\n",
       "    .. versionchanged:: 0.25.0\n",
       "       If data is a list of dicts, column order follows insertion-order.\n",
       "\n",
       "index : Index or array-like\n",
       "    Index to use for resulting frame. Will default to RangeIndex if\n",
       "    no indexing information part of input data and no index provided.\n",
       "columns : Index or array-like\n",
       "    Column labels to use for resulting frame when data does not have them,\n",
       "    defaulting to RangeIndex(0, 1, 2, ..., n). If data contains column labels,\n",
       "    will perform column selection instead.\n",
       "dtype : dtype, default None\n",
       "    Data type to force. Only a single dtype is allowed. If None, infer.\n",
       "copy : bool or None, default None\n",
       "    Copy data from inputs.\n",
       "    For dict data, the default of None behaves like ``copy=True``.  For DataFrame\n",
       "    or 2d ndarray input, the default of None behaves like ``copy=False``.\n",
       "    If data is a dict containing one or more Series (possibly of different dtypes),\n",
       "    ``copy=False`` will ensure that these inputs are not copied.\n",
       "\n",
       "    .. versionchanged:: 1.3.0\n",
       "\n",
       "See Also\n",
       "--------\n",
       "DataFrame.from_records : Constructor from tuples, also record arrays.\n",
       "DataFrame.from_dict : From dicts of Series, arrays, or dicts.\n",
       "read_csv : Read a comma-separated values (csv) file into DataFrame.\n",
       "read_table : Read general delimited file into DataFrame.\n",
       "read_clipboard : Read text from clipboard into DataFrame.\n",
       "\n",
       "Notes\n",
       "-----\n",
       "Please reference the :ref:`User Guide <basics.dataframe>` for more information.\n",
       "\n",
       "Examples\n",
       "--------\n",
       "Constructing DataFrame from a dictionary.\n",
       "\n",
       ">>> d = {'col1': [1, 2], 'col2': [3, 4]}\n",
       ">>> df = pd.DataFrame(data=d)\n",
       ">>> df\n",
       "   col1  col2\n",
       "0     1     3\n",
       "1     2     4\n",
       "\n",
       "Notice that the inferred dtype is int64.\n",
       "\n",
       ">>> df.dtypes\n",
       "col1    int64\n",
       "col2    int64\n",
       "dtype: object\n",
       "\n",
       "To enforce a single dtype:\n",
       "\n",
       ">>> df = pd.DataFrame(data=d, dtype=np.int8)\n",
       ">>> df.dtypes\n",
       "col1    int8\n",
       "col2    int8\n",
       "dtype: object\n",
       "\n",
       "Constructing DataFrame from a dictionary including Series:\n",
       "\n",
       ">>> d = {'col1': [0, 1, 2, 3], 'col2': pd.Series([2, 3], index=[2, 3])}\n",
       ">>> pd.DataFrame(data=d, index=[0, 1, 2, 3])\n",
       "   col1  col2\n",
       "0     0   NaN\n",
       "1     1   NaN\n",
       "2     2   2.0\n",
       "3     3   3.0\n",
       "\n",
       "Constructing DataFrame from numpy ndarray:\n",
       "\n",
       ">>> df2 = pd.DataFrame(np.array([[1, 2, 3], [4, 5, 6], [7, 8, 9]]),\n",
       "...                    columns=['a', 'b', 'c'])\n",
       ">>> df2\n",
       "   a  b  c\n",
       "0  1  2  3\n",
       "1  4  5  6\n",
       "2  7  8  9\n",
       "\n",
       "Constructing DataFrame from a numpy ndarray that has labeled columns:\n",
       "\n",
       ">>> data = np.array([(1, 2, 3), (4, 5, 6), (7, 8, 9)],\n",
       "...                 dtype=[(\"a\", \"i4\"), (\"b\", \"i4\"), (\"c\", \"i4\")])\n",
       ">>> df3 = pd.DataFrame(data, columns=['c', 'a'])\n",
       "...\n",
       ">>> df3\n",
       "   c  a\n",
       "0  3  1\n",
       "1  6  4\n",
       "2  9  7\n",
       "\n",
       "Constructing DataFrame from dataclass:\n",
       "\n",
       ">>> from dataclasses import make_dataclass\n",
       ">>> Point = make_dataclass(\"Point\", [(\"x\", int), (\"y\", int)])\n",
       ">>> pd.DataFrame([Point(0, 0), Point(0, 3), Point(2, 3)])\n",
       "   x  y\n",
       "0  0  0\n",
       "1  0  3\n",
       "2  2  3\n",
       "\u001b[1;31mFile:\u001b[0m           c:\\users\\kunal\\anaconda3\\lib\\site-packages\\pandas\\core\\frame.py\n",
       "\u001b[1;31mType:\u001b[0m           type\n",
       "\u001b[1;31mSubclasses:\u001b[0m     SubclassedDataFrame"
      ]
     },
     "metadata": {},
     "output_type": "display_data"
    }
   ],
   "source": [
    "pd.DataFrame?"
   ]
  },
  {
   "cell_type": "code",
   "execution_count": 11,
   "id": "99c6f0e1-cb6f-4f93-8881-1ed54b138ebb",
   "metadata": {
    "tags": []
   },
   "outputs": [
    {
     "name": "stdout",
     "output_type": "stream",
     "text": [
      "powerBank house_key airpods\n"
     ]
    }
   ],
   "source": [
    "item1=\"powerBank\"; item2=\"house_key\"; item3=\"airpods\"\n",
    "print(item1, item2, item3)"
   ]
  },
  {
   "cell_type": "code",
   "execution_count": 23,
   "id": "200f378a-5e51-4967-b4de-32f45c1c40f2",
   "metadata": {
    "tags": []
   },
   "outputs": [
    {
     "name": "stdout",
     "output_type": "stream",
     "text": [
      "['__add__', '__class__', '__contains__', '__delattr__', '__dir__', '__doc__', '__eq__', '__format__', '__ge__', '__getattribute__', '__getitem__', '__getnewargs__', '__getstate__', '__gt__', '__hash__', '__init__', '__init_subclass__', '__iter__', '__le__', '__len__', '__lt__', '__mod__', '__mul__', '__ne__', '__new__', '__reduce__', '__reduce_ex__', '__repr__', '__rmod__', '__rmul__', '__setattr__', '__sizeof__', '__str__', '__subclasshook__', 'capitalize', 'casefold', 'center', 'count', 'encode', 'endswith', 'expandtabs', 'find', 'format', 'format_map', 'index', 'isalnum', 'isalpha', 'isascii', 'isdecimal', 'isdigit', 'isidentifier', 'islower', 'isnumeric', 'isprintable', 'isspace', 'istitle', 'isupper', 'join', 'ljust', 'lower', 'lstrip', 'maketrans', 'partition', 'removeprefix', 'removesuffix', 'replace', 'rfind', 'rindex', 'rjust', 'rpartition', 'rsplit', 'rstrip', 'split', 'splitlines', 'startswith', 'strip', 'swapcase', 'title', 'translate', 'upper', 'zfill']\n",
      "\n",
      "karan Budha Air\n",
      "True\n"
     ]
    }
   ],
   "source": [
    "name=\"\\nkaran\"\n",
    "print(dir(str))\n",
    "print(name.__add__(\" Budha Air\"))\n",
    "print(name.__contains__('k'))\n"
   ]
  },
  {
   "cell_type": "code",
   "execution_count": 24,
   "id": "b8bf360b-85b0-4eb3-8dd7-0341948e9d76",
   "metadata": {
    "tags": []
   },
   "outputs": [
    {
     "data": {
      "text/plain": [
       "'\\nka'"
      ]
     },
     "execution_count": 24,
     "metadata": {},
     "output_type": "execute_result"
    }
   ],
   "source": [
    "name[:3]"
   ]
  },
  {
   "cell_type": "code",
   "execution_count": 25,
   "id": "5dabeb1f-5e35-470c-9c68-24a8c48c71fd",
   "metadata": {
    "tags": []
   },
   "outputs": [
    {
     "data": {
      "text/plain": [
       "1868958192112"
      ]
     },
     "execution_count": 25,
     "metadata": {},
     "output_type": "execute_result"
    }
   ],
   "source": [
    "id(name)"
   ]
  },
  {
   "cell_type": "code",
   "execution_count": 27,
   "id": "1c7081a3-2de6-4d04-9b27-1e8d920c82a3",
   "metadata": {
    "tags": []
   },
   "outputs": [
    {
     "data": {
      "text/plain": [
       "\u001b[1;31mSignature:\u001b[0m \u001b[0mid\u001b[0m\u001b[1;33m(\u001b[0m\u001b[0mobj\u001b[0m\u001b[1;33m,\u001b[0m \u001b[1;33m/\u001b[0m\u001b[1;33m)\u001b[0m\u001b[1;33m\u001b[0m\u001b[1;33m\u001b[0m\u001b[0m\n",
       "\u001b[1;31mDocstring:\u001b[0m\n",
       "Return the identity of an object.\n",
       "\n",
       "This is guaranteed to be unique among simultaneously existing objects.\n",
       "(CPython uses the object's memory address.)\n",
       "\u001b[1;31mType:\u001b[0m      builtin_function_or_method"
      ]
     },
     "metadata": {},
     "output_type": "display_data"
    }
   ],
   "source": [
    "id?"
   ]
  },
  {
   "cell_type": "markdown",
   "id": "11a62d3c-ac30-44f8-a75b-0e6b57a607e2",
   "metadata": {},
   "source": [
    "## Copy module"
   ]
  },
  {
   "cell_type": "code",
   "execution_count": 29,
   "id": "425364a3-d028-42a3-844e-c26df5dfb37f",
   "metadata": {
    "tags": []
   },
   "outputs": [
    {
     "name": "stdout",
     "output_type": "stream",
     "text": [
      "['Error', '__all__', '__builtins__', '__cached__', '__doc__', '__file__', '__loader__', '__name__', '__package__', '__spec__', '_copy_dispatch', '_copy_immutable', '_deepcopy_atomic', '_deepcopy_dict', '_deepcopy_dispatch', '_deepcopy_list', '_deepcopy_method', '_deepcopy_tuple', '_keep_alive', '_reconstruct', 'copy', 'deepcopy', 'dispatch_table', 'error']\n"
     ]
    }
   ],
   "source": [
    "print(dir(copy))"
   ]
  },
  {
   "cell_type": "code",
   "execution_count": 30,
   "id": "94d4076c-b30e-437e-8666-d0bae2d76807",
   "metadata": {
    "tags": []
   },
   "outputs": [
    {
     "data": {
      "text/plain": [
       "[0, [3, 1, 6]]"
      ]
     },
     "execution_count": 30,
     "metadata": {},
     "output_type": "execute_result"
    }
   ],
   "source": [
    "import copy\n",
    "a=[0,[3,1,6]]\n",
    "b=copy.copy(a)\n",
    "b"
   ]
  },
  {
   "cell_type": "code",
   "execution_count": 31,
   "id": "7145514a-7ddc-4829-9eac-29917d340ac1",
   "metadata": {
    "tags": []
   },
   "outputs": [
    {
     "data": {
      "text/plain": [
       "True"
      ]
     },
     "execution_count": 31,
     "metadata": {},
     "output_type": "execute_result"
    }
   ],
   "source": [
    "a==b"
   ]
  },
  {
   "cell_type": "code",
   "execution_count": 32,
   "id": "74181d2f-a9d6-42e4-808b-985d03884408",
   "metadata": {
    "tags": []
   },
   "outputs": [
    {
     "name": "stdout",
     "output_type": "stream",
     "text": [
      "[0, [2, 1], 6]\n",
      "[0, [2, 1], 6]\n"
     ]
    },
    {
     "data": {
      "text/plain": [
       "True"
      ]
     },
     "execution_count": 32,
     "metadata": {},
     "output_type": "execute_result"
    }
   ],
   "source": [
    "# shallow copy\n",
    "my_birthday=[0,[3,1],6]\n",
    "friend_birthday=copy.copy(my_birthday)\n",
    "\n",
    "friend_birthday[1][0]=2\n",
    "print(my_birthday)\n",
    "print(friend_birthday)\n",
    "my_birthday==friend_birthday"
   ]
  },
  {
   "cell_type": "code",
   "execution_count": 35,
   "id": "50439e72-c833-48a5-b303-2ad9b1b37cf8",
   "metadata": {
    "tags": []
   },
   "outputs": [
    {
     "name": "stdout",
     "output_type": "stream",
     "text": [
      "[0, [3, 1], 6]\n",
      "[0, [2, 1], 6]\n"
     ]
    },
    {
     "data": {
      "text/plain": [
       "False"
      ]
     },
     "execution_count": 35,
     "metadata": {},
     "output_type": "execute_result"
    }
   ],
   "source": [
    "#Insipte of shallow or deep copy, the elements are checked not their refrerence \n",
    "\n",
    "my_birthday=[0,[3,1],6]\n",
    "friend_birthday=copy.deepcopy(my_birthday)\n",
    "\n",
    "friend_birthday[1][0]=2\n",
    "print(my_birthday)\n",
    "print(friend_birthday)\n",
    "my_birthday==friend_birthday"
   ]
  },
  {
   "cell_type": "markdown",
   "id": "b6a6ad00-43bb-40b9-b161-0ca05105f193",
   "metadata": {
    "tags": []
   },
   "source": [
    "## checking instance of an object"
   ]
  },
  {
   "cell_type": "code",
   "execution_count": 36,
   "id": "ebec49b5-7ab4-48de-b932-bf283d46dcb1",
   "metadata": {
    "tags": []
   },
   "outputs": [
    {
     "data": {
      "text/plain": [
       "True"
      ]
     },
     "execution_count": 36,
     "metadata": {},
     "output_type": "execute_result"
    }
   ],
   "source": [
    "subject=\"python for data analysis\"\n",
    "isinstance(subject, str)"
   ]
  },
  {
   "cell_type": "code",
   "execution_count": 38,
   "id": "bc8a8647-0eaf-4fad-8125-8080b176b3f2",
   "metadata": {
    "tags": []
   },
   "outputs": [
    {
     "data": {
      "text/plain": [
       "int"
      ]
     },
     "execution_count": 38,
     "metadata": {},
     "output_type": "execute_result"
    }
   ],
   "source": [
    "type(4)"
   ]
  },
  {
   "cell_type": "code",
   "execution_count": 39,
   "id": "ac2e4bd1-e8c1-4b69-93f6-c99c92348800",
   "metadata": {
    "tags": []
   },
   "outputs": [
    {
     "data": {
      "text/plain": [
       "<function str.split(sep=None, maxsplit=-1)>"
      ]
     },
     "execution_count": 39,
     "metadata": {},
     "output_type": "execute_result"
    }
   ],
   "source": [
    "name=\"karan\"\n",
    "getattr(name, \"split\")"
   ]
  },
  {
   "cell_type": "code",
   "execution_count": 42,
   "id": "5e9da9d2-f43f-457e-86fa-da49128b9438",
   "metadata": {
    "tags": []
   },
   "outputs": [
    {
     "data": {
      "text/plain": [
       "['karan']"
      ]
     },
     "execution_count": 42,
     "metadata": {},
     "output_type": "execute_result"
    }
   ],
   "source": [
    "name.split(sep=\" \", maxsplit=10)"
   ]
  },
  {
   "cell_type": "code",
   "execution_count": 43,
   "id": "478414b4-2bc7-42ab-adba-c0caaf81a55d",
   "metadata": {
    "tags": []
   },
   "outputs": [
    {
     "data": {
      "text/plain": [
       "4"
      ]
     },
     "execution_count": 43,
     "metadata": {},
     "output_type": "execute_result"
    }
   ],
   "source": [
    "len(\"name\")"
   ]
  },
  {
   "cell_type": "code",
   "execution_count": 44,
   "id": "437d8eb5-4c3c-4782-8a8d-b18723173ad5",
   "metadata": {
    "tags": []
   },
   "outputs": [
    {
     "data": {
      "text/plain": [
       "True"
      ]
     },
     "execution_count": 44,
     "metadata": {},
     "output_type": "execute_result"
    }
   ],
   "source": [
    "def isIter(data):\n",
    "    try:\n",
    "        iter(data)\n",
    "        return True\n",
    "    except TypeError:\n",
    "        return False\n",
    "isIter(\"karaN\")\n"
   ]
  },
  {
   "cell_type": "code",
   "execution_count": 45,
   "id": "5c8d7f6f-c154-4771-95da-d5ba133d8553",
   "metadata": {
    "tags": []
   },
   "outputs": [
    {
     "name": "stdout",
     "output_type": "stream",
     "text": [
      "True\n",
      "True\n",
      "KARAN\n"
     ]
    }
   ],
   "source": [
    "print(hasattr([1,2],'__iter__'))\n",
    "print(hasattr(\"karan\",'upper'))\n",
    "print(\"karan\".upper())"
   ]
  },
  {
   "cell_type": "markdown",
   "id": "7a4ec631-97c8-49c9-a97d-09449f0094c3",
   "metadata": {},
   "source": [
    "##Running the file"
   ]
  },
  {
   "cell_type": "markdown",
   "id": "fa3ad62e-ea59-4204-bd92-cb9a3642bd6a",
   "metadata": {},
   "source": [
    "## Running the file"
   ]
  },
  {
   "cell_type": "code",
   "execution_count": 46,
   "id": "a57bc6ce-3a06-4c6e-a006-923d79de2bb0",
   "metadata": {
    "tags": []
   },
   "outputs": [],
   "source": [
    "%run ICT.ipynb"
   ]
  },
  {
   "cell_type": "code",
   "execution_count": 47,
   "id": "6245d2b1-dbe5-49e3-91a2-258998167732",
   "metadata": {
    "tags": []
   },
   "outputs": [
    {
     "data": {
      "text/plain": [
       "'This subject helps to find out the '"
      ]
     },
     "execution_count": 47,
     "metadata": {},
     "output_type": "execute_result"
    }
   ],
   "source": [
    "ICT()"
   ]
  },
  {
   "cell_type": "code",
   "execution_count": 48,
   "id": "7f3d7229-259a-4521-a14d-a7fe3d6b7782",
   "metadata": {
    "tags": []
   },
   "outputs": [
    {
     "data": {
      "text/plain": [
       "'the quiz have 60 numbers of question'"
      ]
     },
     "execution_count": 48,
     "metadata": {},
     "output_type": "execute_result"
    }
   ],
   "source": [
    "ICT_quiz(60)"
   ]
  },
  {
   "cell_type": "code",
   "execution_count": 49,
   "id": "6d742385-d2b9-4ea5-8597-47553f6dd05b",
   "metadata": {
    "tags": []
   },
   "outputs": [
    {
     "name": "stdout",
     "output_type": "stream",
     "text": [
      "3\n",
      " Nepal is commented line of code or a normal code\n",
      "0\n"
     ]
    },
    {
     "data": {
      "text/plain": [
       "\u001b[1;31mType:\u001b[0m        str\n",
       "\u001b[1;31mString form:\u001b[0m  this is commented line of code or a normal code\n",
       "\u001b[1;31mLength:\u001b[0m      48\n",
       "\u001b[1;31mDocstring:\u001b[0m  \n",
       "str(object='') -> str\n",
       "str(bytes_or_buffer[, encoding[, errors]]) -> str\n",
       "\n",
       "Create a new string object from the given object. If encoding or\n",
       "errors is specified, then the object must expose a data buffer\n",
       "that will be decoded using the given encoding and error handler.\n",
       "Otherwise, returns the result of object.__str__() (if defined)\n",
       "or repr(object).\n",
       "encoding defaults to sys.getdefaultencoding().\n",
       "errors defaults to 'strict'."
      ]
     },
     "metadata": {},
     "output_type": "display_data"
    }
   ],
   "source": [
    "c=''' this is commented line of code or a normal code'''\n",
    "print(c.count('i'))\n",
    "print(c.replace('this', 'Nepal'))\n",
    "print(c.count('Nepal'))\n",
    "c?"
   ]
  },
  {
   "cell_type": "code",
   "execution_count": 50,
   "id": "cf30e12c-923b-49ab-acd4-e53a8af7734c",
   "metadata": {
    "tags": []
   },
   "outputs": [
    {
     "data": {
      "text/plain": [
       "['P',\n",
       " 'Y',\n",
       " 'T',\n",
       " 'H',\n",
       " 'O',\n",
       " 'N',\n",
       " ' ',\n",
       " 'F',\n",
       " 'O',\n",
       " 'R',\n",
       " ' ',\n",
       " 'D',\n",
       " 'A',\n",
       " 'T',\n",
       " 'A',\n",
       " ' ',\n",
       " 'A',\n",
       " 'N',\n",
       " 'A',\n",
       " 'L',\n",
       " 'Y',\n",
       " 'S',\n",
       " 'I',\n",
       " 'S']"
      ]
     },
     "execution_count": 50,
     "metadata": {},
     "output_type": "execute_result"
    }
   ],
   "source": [
    "name=\"python for data analysis\"\n",
    "character_list=list(name)\n",
    "number_of_a= [i.upper() for i in character_list ]\n",
    "number_of_a"
   ]
  },
  {
   "cell_type": "code",
   "execution_count": 51,
   "id": "2a5e8b1e-6daa-4154-87f7-b9622647871d",
   "metadata": {
    "tags": []
   },
   "outputs": [
    {
     "name": "stdout",
     "output_type": "stream",
     "text": [
      "this \\n\\n\\\\\\\\\\\\\\ string \\\\\\\\\\\\\\\\ has \\\\ no special meaning\\\\\\\\\\\\ characters\n"
     ]
    }
   ],
   "source": [
    "raw_string=r\"this \\n\\n\\\\\\\\\\\\\\ string \\\\\\\\\\\\\\\\ has \\\\ no special meaning\\\\\\\\\\\\ characters\"\n",
    "print(raw_string)"
   ]
  },
  {
   "cell_type": "code",
   "execution_count": 52,
   "id": "263d5d22-a7a3-4403-86d3-66bbe46f2223",
   "metadata": {
    "tags": []
   },
   "outputs": [
    {
     "name": "stdout",
     "output_type": "stream",
     "text": [
      "the name of book is Python For Data Analysis written by Great Man which will cost us AUD$ 88.340 that have 12 chapters\n"
     ]
    }
   ],
   "source": [
    "book_info=\"the name of book is {0:s} written by {1:s} which will cost us AUD$ {2:.3f} that have {3:d} chapters\"\n",
    "print(book_info.format(\"Python For Data Analysis\",\"Great Man\",88.34, 12))"
   ]
  },
  {
   "cell_type": "code",
   "execution_count": 53,
   "id": "8306c5a3-0ca5-4ace-a519-56b5e4045532",
   "metadata": {
    "tags": []
   },
   "outputs": [
    {
     "name": "stdout",
     "output_type": "stream",
     "text": [
      "2023-12-21 23:25:53.088106\n",
      "2023\n",
      "12\n",
      "21\n",
      "2023-12-21\n",
      "23:25:00\n",
      "2023-12-21 23:00:53.089105\n",
      "434 days, 23:35:00\n"
     ]
    }
   ],
   "source": [
    "from datetime import datetime, date, time\n",
    "birth_day=\"30/06/1992\"\n",
    "print(datetime.now())\n",
    "print(datetime.now().year)\n",
    "print(datetime.now().month)\n",
    "print(datetime.now().day)\n",
    "\n",
    "print(date.today())\n",
    "current_time = time(hour=datetime.now().hour, minute=datetime.now().minute)\n",
    "print(current_time)\n",
    "print(datetime.now().replace(minute=0))\n",
    "print((datetime.now().replace(minute=0))-datetime.now().replace(year=2022, month=10, day=12))"
   ]
  },
  {
   "cell_type": "code",
   "execution_count": 54,
   "id": "e94557ea-03c2-40f5-bd0b-cff4184ea244",
   "metadata": {
    "tags": []
   },
   "outputs": [
    {
     "data": {
      "text/plain": [
       "datetime.datetime(1992, 6, 30, 1, 30, 16)"
      ]
     },
     "execution_count": 54,
     "metadata": {},
     "output_type": "execute_result"
    }
   ],
   "source": [
    "dt=datetime(1992,6,30, 1,30,16)\n",
    "\n",
    "dt"
   ]
  },
  {
   "cell_type": "code",
   "execution_count": 55,
   "id": "8e1a5b44-2ef4-45ac-9c74-eeff4013b29e",
   "metadata": {
    "tags": []
   },
   "outputs": [
    {
     "data": {
      "text/plain": [
       "'1992/06/30'"
      ]
     },
     "execution_count": 55,
     "metadata": {},
     "output_type": "execute_result"
    }
   ],
   "source": [
    "dt.strftime(\"%Y/%m/%d\")"
   ]
  },
  {
   "cell_type": "code",
   "execution_count": 56,
   "id": "4c9f9464-9620-4ca9-b26c-188633325490",
   "metadata": {
    "tags": []
   },
   "outputs": [
    {
     "data": {
      "text/plain": [
       "'01:30'"
      ]
     },
     "execution_count": 56,
     "metadata": {},
     "output_type": "execute_result"
    }
   ],
   "source": [
    "time(hour=dt.hour, minute=dt.minute).strftime(\"%H:%M\")"
   ]
  },
  {
   "cell_type": "code",
   "execution_count": 57,
   "id": "2964050b-7e48-4412-a989-47e556854886",
   "metadata": {
    "tags": []
   },
   "outputs": [
    {
     "name": "stdout",
     "output_type": "stream",
     "text": [
      "2012-10-12 13:14:15\n",
      "2012-10-12 13:00:15\n",
      "2022-10-12 13:14:15\n"
     ]
    }
   ],
   "source": [
    "from datetime import datetime, time, date\n",
    "datetime1=datetime(2012,10,12,13,14,15)\n",
    "print(datetime1)\n",
    "print(datetime1.replace(minute=0))\n",
    "print(datetime1.replace(year=2022, month=10, day=12))"
   ]
  },
  {
   "cell_type": "code",
   "execution_count": 58,
   "id": "047a721e-6ab6-43f6-aa9e-5d250969efb0",
   "metadata": {
    "tags": []
   },
   "outputs": [
    {
     "name": "stdout",
     "output_type": "stream",
     "text": [
      "Made it\n"
     ]
    }
   ],
   "source": [
    "a = 5; b = 7\n",
    "\n",
    "c = 4; d = 8\n",
    "if a < b or c > d:\n",
    "    \n",
    "    print(\"Made it\")"
   ]
  },
  {
   "cell_type": "code",
   "execution_count": null,
   "id": "79a4c5f9-702f-4718-a11d-4e2fdb75e6f5",
   "metadata": {},
   "outputs": [],
   "source": []
  }
 ],
 "metadata": {
  "kernelspec": {
   "display_name": "Python 3 (ipykernel)",
   "language": "python",
   "name": "python3"
  },
  "language_info": {
   "codemirror_mode": {
    "name": "ipython",
    "version": 3
   },
   "file_extension": ".py",
   "mimetype": "text/x-python",
   "name": "python",
   "nbconvert_exporter": "python",
   "pygments_lexer": "ipython3",
   "version": "3.11.4"
  }
 },
 "nbformat": 4,
 "nbformat_minor": 5
}
