{
 "cells": [
  {
   "cell_type": "code",
   "execution_count": 1,
   "id": "f4d4f926-90f5-4850-9b95-312ec2cfdf41",
   "metadata": {
    "tags": []
   },
   "outputs": [],
   "source": [
    "# Python dictionary analogy\n",
    "english_dictionary = {\n",
    "    \"apple\": \"a round fruit with red or green skin and a whitish interior\",\n",
    "    \"python\": \"a large heavy-bodied nonvenomous constrictor snake\"\n",
    "}\n"
   ]
  },
  {
   "cell_type": "code",
   "execution_count": 4,
   "id": "68181fd7-3de7-48e8-a5d4-6849770803a3",
   "metadata": {
    "tags": []
   },
   "outputs": [
    {
     "name": "stdout",
     "output_type": "stream",
     "text": [
      "a round fruit with red or green skin and a whitish interior\n"
     ]
    }
   ],
   "source": [
    "# Looking up the definition of \"apple\"\n",
    "apple_definition = english_dictionary[\"apple\"]\n",
    "print(apple_definition)\n"
   ]
  },
  {
   "cell_type": "code",
   "execution_count": 5,
   "id": "980f0859-665d-44ed-af04-61aaaa8adf5b",
   "metadata": {
    "tags": []
   },
   "outputs": [],
   "source": [
    "# Updating the definition of \"python\"\n",
    "english_dictionary[\"python\"] = \"a powerful, high-level programming language\"\n"
   ]
  },
  {
   "cell_type": "code",
   "execution_count": 6,
   "id": "eab22b6a-939d-47d7-a57b-8d62e5aab6de",
   "metadata": {
    "tags": []
   },
   "outputs": [
    {
     "name": "stdout",
     "output_type": "stream",
     "text": [
      "{'apple': 'a round fruit with red or green skin and a whitish interior', 'python': 'a powerful, high-level programming language'}\n"
     ]
    }
   ],
   "source": [
    "print(english_dictionary)"
   ]
  },
  {
   "cell_type": "code",
   "execution_count": 7,
   "id": "f5d82e68-c1f3-4a41-9dc5-0595aed5253a",
   "metadata": {
    "tags": []
   },
   "outputs": [
    {
     "name": "stdout",
     "output_type": "stream",
     "text": [
      "'Algorithm' is not in the dictionary.\n"
     ]
    }
   ],
   "source": [
    "# Checking if a word exists in the dictionary\n",
    "if \"algorithm\" in english_dictionary:\n",
    "    print(\"The definition of 'algorithm' is:\", english_dictionary[\"algorithm\"])\n",
    "else:\n",
    "    print(\"'Algorithm' is not in the dictionary.\")\n"
   ]
  },
  {
   "cell_type": "code",
   "execution_count": 8,
   "id": "35ecd3ab-b4af-498b-91e2-5bd4fc5189e3",
   "metadata": {
    "tags": []
   },
   "outputs": [
    {
     "name": "stdout",
     "output_type": "stream",
     "text": [
      "The key(s) for the value 2 is/are: ['banana', 'grape']\n"
     ]
    }
   ],
   "source": [
    "# Sample dictionary\n",
    "my_dict = {'apple': 1, 'banana': 2, 'orange': 3, 'grape': 2}\n",
    "\n",
    "# Value to find\n",
    "desired_value = 2\n",
    "\n",
    "# Find the key for the desired value\n",
    "found_keys = [key for key, value in my_dict.items() if value == desired_value]\n",
    "\n",
    "# Print the result\n",
    "if found_keys:\n",
    "    print(f\"The key(s) for the value {desired_value} is/are: {found_keys}\")\n",
    "else:\n",
    "    print(f\"No key found for the value {desired_value}\")\n"
   ]
  },
  {
   "cell_type": "markdown",
   "id": "d2dcf390-7e47-4665-9f21-590f24c353fb",
   "metadata": {},
   "source": [
    "# Adding two dictionaries"
   ]
  },
  {
   "cell_type": "code",
   "execution_count": 12,
   "id": "f0e880d8-c555-4685-b759-ec0e9adc4cb1",
   "metadata": {
    "tags": []
   },
   "outputs": [
    {
     "name": "stdout",
     "output_type": "stream",
     "text": [
      "{'water': 'copper Vessel', 'study': 'table', 'light': 'Desk Lamp', 'phone': 'iphone', 'rent': 123}\n",
      "{'water': 'copper Vessel', 'study': 'table', 'light': 'Desk Lamp', 'phone': 'iphone', 'rent': 123}\n",
      "copper Vessel\n"
     ]
    }
   ],
   "source": [
    "first_dictionary={\"water\":\"glass\", \"study\":\"table\", \"light\":\"Desk Lamp\"}\n",
    "second_dictionary={\"water\":\"copper Vessel\", \"phone\":\"iphone\", \"rent\":123}\n",
    "first_dictionary.update(second_dictionary)\n",
    "# or we can use {**first_dictionay, **second_dictionary}\n",
    "combined_dictionary={**first_dictionary, **second_dictionary}\n",
    "print(combined_dictionary)\n",
    "print(first_dictionary)\n",
    "if \"water\" in first_dictionary:\n",
    "    print(first_dictionary[\"water\"])"
   ]
  },
  {
   "cell_type": "code",
   "execution_count": 23,
   "id": "26004f21-8c58-42d1-b452-7392037c3001",
   "metadata": {
    "tags": []
   },
   "outputs": [
    {
     "name": "stdout",
     "output_type": "stream",
     "text": [
      "[('Sunday', 'Black', 8), ('Monday', 'Blue', 2)]\n",
      "dict_items([('Sunday', ['Black', 8]), ('Monday', ['Blue', 2])])\n"
     ]
    }
   ],
   "source": [
    "days=[\"Sunday\",\"Monday\"]\n",
    "dress=[\"Black\",\"Blue\"]\n",
    "hours=[8,2]\n",
    "work_routine=list(zip(days,dress,hours))\n",
    "print(work_routine)\n",
    "# now let us make zipped item into dicitionay\n",
    "# we can use dict() method directly if we had just two values but we have three elements in each item\n",
    "work_routine_dict={}\n",
    "for day, dress, hours in work_routine:\n",
    "    work_routine_dict[day]=[dress,hours]\n",
    "print(work_routine_dict.items())\n",
    "    "
   ]
  },
  {
   "cell_type": "code",
   "execution_count": 29,
   "id": "c9495ea9-8866-44a9-beee-6508eea91e6f",
   "metadata": {
    "tags": []
   },
   "outputs": [
    {
     "name": "stdout",
     "output_type": "stream",
     "text": [
      "['Black', 8]\n"
     ]
    }
   ],
   "source": [
    "value = work_routine_dict.get(\"Sunday\", \"name\")\n",
    "print(value)"
   ]
  },
  {
   "cell_type": "code",
   "execution_count": 30,
   "id": "bc492dfd-651a-4fb6-8c52-8dc4dc5e6393",
   "metadata": {
    "tags": []
   },
   "outputs": [
    {
     "name": "stdout",
     "output_type": "stream",
     "text": [
      "{'Alice': 'Table 1', 'Bob': 'Table 2', 'Charlie': 'Table 3'}\n"
     ]
    }
   ],
   "source": [
    "guest={\"Alice\":\"Table 1\", \"Bob\":\"Table 2\", \"Charlie\":\"Table 3\"}\n",
    "print(guest)"
   ]
  },
  {
   "cell_type": "code",
   "execution_count": 32,
   "id": "15851c94-5293-47ad-b49f-b09fb4ebb218",
   "metadata": {
    "tags": []
   },
   "outputs": [
    {
     "data": {
      "text/plain": [
       "'Table 1'"
      ]
     },
     "execution_count": 32,
     "metadata": {},
     "output_type": "execute_result"
    }
   ],
   "source": [
    "guest.setdefault(\"Alice\",\"Default Table\")"
   ]
  },
  {
   "cell_type": "code",
   "execution_count": 33,
   "id": "2741ec76-b87b-4a1e-9726-df3f96a7547c",
   "metadata": {
    "tags": []
   },
   "outputs": [
    {
     "data": {
      "text/plain": [
       "'Default Table'"
      ]
     },
     "execution_count": 33,
     "metadata": {},
     "output_type": "execute_result"
    }
   ],
   "source": [
    "guest.setdefault(\"Subas\", \"Default Table\")"
   ]
  },
  {
   "cell_type": "code",
   "execution_count": null,
   "id": "29363576-92e2-4270-9c94-84c6d7191bcc",
   "metadata": {},
   "outputs": [],
   "source": []
  }
 ],
 "metadata": {
  "kernelspec": {
   "display_name": "Python 3 (ipykernel)",
   "language": "python",
   "name": "python3"
  },
  "language_info": {
   "codemirror_mode": {
    "name": "ipython",
    "version": 3
   },
   "file_extension": ".py",
   "mimetype": "text/x-python",
   "name": "python",
   "nbconvert_exporter": "python",
   "pygments_lexer": "ipython3",
   "version": "3.11.4"
  }
 },
 "nbformat": 4,
 "nbformat_minor": 5
}
