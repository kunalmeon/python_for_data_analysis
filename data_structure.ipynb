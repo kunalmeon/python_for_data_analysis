{
 "cells": [
  {
   "cell_type": "markdown",
   "id": "7ff86317-c618-4507-be38-c8a3975efded",
   "metadata": {
    "jp-MarkdownHeadingCollapsed": true,
    "tags": []
   },
   "source": [
    "### Tuples"
   ]
  },
  {
   "cell_type": "code",
   "execution_count": 77,
   "id": "752ab420-eef3-4613-b122-0873ed09db1a",
   "metadata": {
    "tags": []
   },
   "outputs": [
    {
     "name": "stdout",
     "output_type": "stream",
     "text": [
      "['__add__', '__class__', '__class_getitem__', '__contains__', '__delattr__', '__dir__', '__doc__', '__eq__', '__format__', '__ge__', '__getattribute__', '__getitem__', '__getnewargs__', '__getstate__', '__gt__', '__hash__', '__init__', '__init_subclass__', '__iter__', '__le__', '__len__', '__lt__', '__mul__', '__ne__', '__new__', '__reduce__', '__reduce_ex__', '__repr__', '__rmul__', '__setattr__', '__sizeof__', '__str__', '__subclasshook__', 'count', 'index']\n"
     ]
    }
   ],
   "source": [
    "tup=(0,3,16)\n",
    "print(dir(tup))"
   ]
  },
  {
   "cell_type": "code",
   "execution_count": 80,
   "id": "db1f5cc1-5442-4f9b-9477-23eac139c968",
   "metadata": {
    "tags": []
   },
   "outputs": [
    {
     "data": {
      "text/plain": [
       "(0, 3, 16, 2049, 0)"
      ]
     },
     "execution_count": 80,
     "metadata": {},
     "output_type": "execute_result"
    }
   ],
   "source": [
    "tup.__add__((2049,0))"
   ]
  },
  {
   "cell_type": "code",
   "execution_count": 88,
   "id": "2be9b92e-0f4f-4d75-8087-4b47bbd0ea2d",
   "metadata": {
    "tags": []
   },
   "outputs": [
    {
     "data": {
      "text/plain": [
       "(0, 3, 16, 0, 3, 16, 0, 3, 16)"
      ]
     },
     "execution_count": 88,
     "metadata": {},
     "output_type": "execute_result"
    }
   ],
   "source": [
    "tup*3"
   ]
  },
  {
   "cell_type": "code",
   "execution_count": 96,
   "id": "a5dafee2-4c4f-47ba-bdb0-026eb5ee9bfc",
   "metadata": {
    "tags": []
   },
   "outputs": [
    {
     "name": "stdout",
     "output_type": "stream",
     "text": [
      "(2, 3, 0, 7)\n",
      "0\n",
      "7\n",
      "2\n",
      "3\n"
     ]
    }
   ],
   "source": [
    "power_lotto_list=[2,3,0,7]\n",
    "print(tuple(power_lotto_list))\n",
    "power_lotto_tuples=(0,7,2,3)\n",
    "a=list(power_lotto_tuples)\n",
    "for number in a:\n",
    "    print(number)"
   ]
  },
  {
   "cell_type": "code",
   "execution_count": 105,
   "id": "eece6268-2192-4cfe-94f7-8ab7f09d5304",
   "metadata": {
    "tags": []
   },
   "outputs": [
    {
     "data": {
      "text/plain": [
       "(('name', 'karan'), ('age', 31))"
      ]
     },
     "execution_count": 105,
     "metadata": {},
     "output_type": "execute_result"
    }
   ],
   "source": [
    "dictionary_tuple=tuple({\"name\":\"karan\", \"age\":31}.items())\n",
    "dictionary_tuple"
   ]
  },
  {
   "cell_type": "code",
   "execution_count": 106,
   "id": "62121f17-dcc7-4561-8fce-cff3f96f463f",
   "metadata": {
    "tags": []
   },
   "outputs": [
    {
     "name": "stdout",
     "output_type": "stream",
     "text": [
      "('name', 'karan')\n",
      "('age', 31)\n"
     ]
    }
   ],
   "source": [
    "for item in dictionary_tuple:\n",
    "    print(item)"
   ]
  },
  {
   "cell_type": "code",
   "execution_count": 116,
   "id": "2f7be5d5-4943-4c15-a04c-77ca199a6437",
   "metadata": {
    "tags": []
   },
   "outputs": [
    {
     "name": "stdout",
     "output_type": "stream",
     "text": [
      "FOO\n"
     ]
    },
    {
     "data": {
      "text/plain": [
       "('foo', [1, 2, 3], True)"
      ]
     },
     "execution_count": 116,
     "metadata": {},
     "output_type": "execute_result"
    }
   ],
   "source": [
    "#We can't replace the object stored in tuple but we can modify it if it is mutalbe object like list or string and so on\n",
    "tup = tuple(['foo', [1, 2], True])\n",
    "tup[0].upper()\n",
    "tup[1].append(3)\n",
    "print(tup[0].upper())\n",
    "tup\n"
   ]
  },
  {
   "cell_type": "code",
   "execution_count": 117,
   "id": "7feb3c68-e8d2-4d73-8203-d1663e19708a",
   "metadata": {
    "tags": []
   },
   "outputs": [
    {
     "name": "stdout",
     "output_type": "stream",
     "text": [
      "23\n"
     ]
    }
   ],
   "source": [
    "xmas_tup=25,12,(20,23)\n",
    "a,b,c=xmas_tup\n",
    "d,e=c\n",
    "print(e)"
   ]
  },
  {
   "cell_type": "code",
   "execution_count": 125,
   "id": "29035f42-30c4-46fb-9d06-b6585e762121",
   "metadata": {
    "tags": []
   },
   "outputs": [
    {
     "name": "stdout",
     "output_type": "stream",
     "text": [
      "before swapping a: ['Monday', 'Tuesday'] and b: Chirstmas\n",
      "after swapping a: Chirstmas and b: ['Monday', 'Tuesday']\n"
     ]
    }
   ],
   "source": [
    "#Swapping made easy in python\n",
    "a=[\"Monday\",\"Tuesday\"]\n",
    "b=\"Chirstmas\"\n",
    "print(\"before swapping a: {0} and b: {1}\".format(a,b))\n",
    "a,b=b,a\n",
    "print(\"after swapping a: {0} and b: {1}\".format(a,b))"
   ]
  },
  {
   "cell_type": "code",
   "execution_count": 126,
   "id": "f6d43dd5-47ec-4de8-9f99-daa52dddb451",
   "metadata": {
    "tags": []
   },
   "outputs": [
    {
     "name": "stdout",
     "output_type": "stream",
     "text": [
      "the value of a : 1 and value of b: 2 and value of c: 3\n",
      "the value of a : 4 and value of b: 5 and value of c: 6\n",
      "the value of a : 7 and value of b: 8 and value of c: 9\n"
     ]
    }
   ],
   "source": [
    "seq=[(1,2,3),(4,5,6),(7,8,9)]\n",
    "for a,b,c in seq:\n",
    "    print(\"the value of a : {0} and value of b: {1} and value of c: {2}\".format(a,b,c))\n",
    "    "
   ]
  },
  {
   "cell_type": "code",
   "execution_count": 127,
   "id": "451cffe0-b106-4a82-ac5a-d5558ea5ff5f",
   "metadata": {
    "tags": []
   },
   "outputs": [
    {
     "name": "stdout",
     "output_type": "stream",
     "text": [
      "the value of a : 1 and value of b: 2 and value of c: 3\n",
      "the value of a : 4 and value of b: 5 and value of c: 6\n",
      "the value of a : 7 and value of b: 8 and value of c: 9\n"
     ]
    }
   ],
   "source": [
    "seq=[(1,2,3),(4,5,6),(7,8,9)]\n",
    "for item in seq:\n",
    "    a,b,c=item\n",
    "    print(\"the value of a : {0} and value of b: {1} and value of c: {2}\".format(a,b,c))\n",
    "   "
   ]
  },
  {
   "cell_type": "code",
   "execution_count": 131,
   "id": "dbeee4de-0513-454b-90d6-366d56ffc8f6",
   "metadata": {
    "tags": []
   },
   "outputs": [
    {
     "name": "stdout",
     "output_type": "stream",
     "text": [
      "Karan\n",
      "Suman\n",
      "Sameer\n",
      "Aasif\n"
     ]
    }
   ],
   "source": [
    "players=(\"Karan\",\"Suman\",\"Niraj\", \"Sameer\", \"Aasif\")\n",
    "\n",
    "def player_stat(captain, vicecaptian, coach, *extra):\n",
    "    print(captain)\n",
    "    print(vicecaptian)\n",
    "    for other in extra:\n",
    "        print(other)\n",
    "player1, player2, player3, *rest=players\n",
    "player_stat(player1, player2, player3, *rest)"
   ]
  },
  {
   "cell_type": "markdown",
   "id": "88b7e1f8-2c54-4ae1-941a-3b57f8f2c3c9",
   "metadata": {},
   "source": [
    "### List"
   ]
  },
  {
   "cell_type": "code",
   "execution_count": null,
   "id": "f6b661d6-f0a5-4afd-96db-35e1c03e1aaf",
   "metadata": {},
   "outputs": [],
   "source": []
  }
 ],
 "metadata": {
  "kernelspec": {
   "display_name": "Python 3 (ipykernel)",
   "language": "python",
   "name": "python3"
  },
  "language_info": {
   "codemirror_mode": {
    "name": "ipython",
    "version": 3
   },
   "file_extension": ".py",
   "mimetype": "text/x-python",
   "name": "python",
   "nbconvert_exporter": "python",
   "pygments_lexer": "ipython3",
   "version": "3.11.4"
  }
 },
 "nbformat": 4,
 "nbformat_minor": 5
}
