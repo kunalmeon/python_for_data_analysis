{
 "cells": [
  {
   "cell_type": "code",
   "execution_count": 1,
   "id": "5ab26553-0eff-40d1-bf21-deaa59d60da5",
   "metadata": {
    "tags": []
   },
   "outputs": [],
   "source": [
    "import numpy as np\n",
    "import pandas as pd"
   ]
  },
  {
   "cell_type": "code",
   "execution_count": 2,
   "id": "f3bc1fa9-6986-4772-9b24-3eb1fe605303",
   "metadata": {
    "tags": []
   },
   "outputs": [],
   "source": [
    "data=np.random.randn(4)"
   ]
  },
  {
   "cell_type": "code",
   "execution_count": 45,
   "id": "9a8e261d-464c-4a93-a3ff-d06688482602",
   "metadata": {
    "tags": []
   },
   "outputs": [],
   "source": [
    "series=pd.Series(data, index=['a','b','c','d'])"
   ]
  },
  {
   "cell_type": "code",
   "execution_count": 46,
   "id": "f3cf3866-7a45-4e4c-88ed-667ede063e38",
   "metadata": {
    "tags": []
   },
   "outputs": [
    {
     "data": {
      "text/plain": [
       "a    1.381921\n",
       "b    0.091911\n",
       "c    0.382309\n",
       "d    1.165045\n",
       "dtype: float64"
      ]
     },
     "execution_count": 46,
     "metadata": {},
     "output_type": "execute_result"
    }
   ],
   "source": [
    "series"
   ]
  },
  {
   "cell_type": "code",
   "execution_count": 47,
   "id": "6258875a-ae56-460e-97eb-d8ee591663fa",
   "metadata": {
    "tags": []
   },
   "outputs": [
    {
     "data": {
      "text/plain": [
       "<pandas.core.indexing._iLocIndexer at 0x1dcc6c84320>"
      ]
     },
     "execution_count": 47,
     "metadata": {},
     "output_type": "execute_result"
    }
   ],
   "source": [
    "getattr(series, \"iloc\")"
   ]
  },
  {
   "cell_type": "code",
   "execution_count": 48,
   "id": "cd223451-d8c1-49c0-bcfd-f4b4921e53a9",
   "metadata": {
    "tags": []
   },
   "outputs": [
    {
     "data": {
      "text/plain": [
       "<function list.extend(iterable, /)>"
      ]
     },
     "execution_count": 48,
     "metadata": {},
     "output_type": "execute_result"
    }
   ],
   "source": [
    "name=['karan','ramesh']\n",
    "getattr(name,'extend')"
   ]
  },
  {
   "cell_type": "code",
   "execution_count": 50,
   "id": "fad4534e-359a-4dc1-b33c-fe1592ed61d0",
   "metadata": {
    "tags": []
   },
   "outputs": [
    {
     "name": "stdout",
     "output_type": "stream",
     "text": [
      "1.3819214342151749\n"
     ]
    }
   ],
   "source": [
    "print(series.a)"
   ]
  },
  {
   "cell_type": "code",
   "execution_count": 16,
   "id": "33e64cd4-500d-4280-9a9b-fcbbebfcc50e",
   "metadata": {
    "tags": []
   },
   "outputs": [
    {
     "name": "stdout",
     "output_type": "stream",
     "text": [
      "1.3819214342151749\n"
     ]
    }
   ],
   "source": [
    "print(series.iloc[0])"
   ]
  },
  {
   "cell_type": "code",
   "execution_count": 37,
   "id": "0d6fae67-914e-4559-be4e-01c0b8dfdcab",
   "metadata": {
    "tags": []
   },
   "outputs": [
    {
     "name": "stdout",
     "output_type": "stream",
     "text": [
      "a   -0.536529\n",
      "b    0.004891\n",
      "c    1.886301\n",
      "d   -0.122476\n",
      "e   -1.678494\n",
      "dtype: float64\n",
      "False\n"
     ]
    }
   ],
   "source": [
    "s = pd.Series(np.random.randn(5), index=[\"a\", \"b\", \"c\", \"d\", \"e\"])\n",
    "\n",
    "print(s)\n",
    "print(-0.892870 in s)\n"
   ]
  },
  {
   "cell_type": "code",
   "execution_count": 18,
   "id": "29a573b6-4614-41b5-a829-f7d63157ea31",
   "metadata": {
    "tags": []
   },
   "outputs": [
    {
     "data": {
      "text/plain": [
       "a    0.762727\n",
       "b    1.000004\n",
       "c    1.057841\n",
       "d    0.453832\n",
       "e    1.590122\n",
       "dtype: float64"
      ]
     },
     "execution_count": 18,
     "metadata": {},
     "output_type": "execute_result"
    }
   ],
   "source": [
    "np.exp(s)"
   ]
  },
  {
   "cell_type": "code",
   "execution_count": 20,
   "id": "11bdc68a-41e7-4bc5-9fad-4b882dc045d9",
   "metadata": {
    "tags": []
   },
   "outputs": [
    {
     "data": {
      "text/plain": [
       "1.4420734878323997"
      ]
     },
     "execution_count": 20,
     "metadata": {},
     "output_type": "execute_result"
    }
   ],
   "source": [
    "np.exp(0.366082)"
   ]
  },
  {
   "cell_type": "code",
   "execution_count": 21,
   "id": "9f909510-87fe-4dbf-9592-a6b01237f4a1",
   "metadata": {
    "tags": []
   },
   "outputs": [
    {
     "data": {
      "text/plain": [
       "0.8000260414752076"
      ]
     },
     "execution_count": 21,
     "metadata": {},
     "output_type": "execute_result"
    }
   ],
   "source": [
    "np.exp(-0.223111)"
   ]
  },
  {
   "cell_type": "code",
   "execution_count": 22,
   "id": "98ce337c-8a8e-4982-9d5c-0eaf4d479511",
   "metadata": {
    "tags": []
   },
   "outputs": [
    {
     "data": {
      "text/plain": [
       "a    1.442074\n",
       "b    0.800026\n",
       "c    0.506326\n",
       "d    1.061921\n",
       "e    0.889320\n",
       "dtype: float64"
      ]
     },
     "execution_count": 22,
     "metadata": {},
     "output_type": "execute_result"
    }
   ],
   "source": [
    "np.exp(s)"
   ]
  },
  {
   "cell_type": "code",
   "execution_count": 23,
   "id": "e923e57f-846b-4af1-b74a-53bc00820b76",
   "metadata": {
    "tags": []
   },
   "outputs": [
    {
     "data": {
      "text/plain": [
       "7.38905609893065"
      ]
     },
     "execution_count": 23,
     "metadata": {},
     "output_type": "execute_result"
    }
   ],
   "source": [
    "np.exp(2)"
   ]
  },
  {
   "cell_type": "code",
   "execution_count": 24,
   "id": "ad8bca98-8c78-4e2d-8f25-9018de5036dd",
   "metadata": {
    "tags": []
   },
   "outputs": [
    {
     "data": {
      "text/plain": [
       "7.38905609893065"
      ]
     },
     "execution_count": 24,
     "metadata": {},
     "output_type": "execute_result"
    }
   ],
   "source": [
    "np.exp(2)"
   ]
  },
  {
   "cell_type": "code",
   "execution_count": 25,
   "id": "874dfeb3-0a24-40e0-b191-7f0d38901915",
   "metadata": {
    "tags": []
   },
   "outputs": [
    {
     "data": {
      "text/plain": [
       "<function str.upper()>"
      ]
     },
     "execution_count": 25,
     "metadata": {},
     "output_type": "execute_result"
    }
   ],
   "source": [
    "\"karan\".upper"
   ]
  },
  {
   "cell_type": "code",
   "execution_count": 27,
   "id": "3ee2702b-8797-4f74-9156-f85e0304297d",
   "metadata": {
    "tags": []
   },
   "outputs": [
    {
     "name": "stdout",
     "output_type": "stream",
     "text": [
      "KARAN\n"
     ]
    }
   ],
   "source": [
    "print(\"karan\".upper())"
   ]
  },
  {
   "cell_type": "code",
   "execution_count": null,
   "id": "0ebe82e3-0a93-44b4-8f0c-3226b168c944",
   "metadata": {
    "tags": []
   },
   "outputs": [],
   "source": []
  },
  {
   "cell_type": "code",
   "execution_count": 29,
   "id": "a34835b7-c950-4396-93b9-07e7dbb97850",
   "metadata": {
    "tags": []
   },
   "outputs": [
    {
     "data": {
      "text/plain": [
       "dtype('float64')"
      ]
     },
     "execution_count": 29,
     "metadata": {},
     "output_type": "execute_result"
    }
   ],
   "source": [
    "s.dtype"
   ]
  },
  {
   "cell_type": "code",
   "execution_count": 34,
   "id": "0fa8385a-bfb8-47e2-b03d-2e07e9cf3b51",
   "metadata": {
    "tags": []
   },
   "outputs": [
    {
     "name": "stdout",
     "output_type": "stream",
     "text": [
      "It is an attribute\n"
     ]
    }
   ],
   "source": [
    "# If the method is callable then it method else it is a function says \n",
    "if callable(s.dtype):\n",
    "    print(\"It is the method\")\n",
    "else:\n",
    "    print(\"It is an attribute\")"
   ]
  },
  {
   "cell_type": "code",
   "execution_count": 35,
   "id": "e8215685-d4f8-4e92-95e4-9f9427207a5f",
   "metadata": {
    "tags": []
   },
   "outputs": [
    {
     "name": "stdout",
     "output_type": "stream",
     "text": [
      "No\n"
     ]
    }
   ],
   "source": [
    "if callable(s.dtype):\n",
    "    print()\n",
    "else:\n",
    "    print(\"No\")"
   ]
  },
  {
   "cell_type": "code",
   "execution_count": 54,
   "id": "928747b3-7ce1-4501-ac94-7253c98ce4ad",
   "metadata": {
    "tags": []
   },
   "outputs": [
    {
     "name": "stdout",
     "output_type": "stream",
     "text": [
      "0     an\n",
      "1     ek\n",
      "2     il\n",
      "3    NaN\n",
      "dtype: object\n"
     ]
    }
   ],
   "source": [
    "vowelSeries=pd.Series(['a','e','i','o','u'])\n",
    "constantSeries=pd.Series([\"n\",\"k\",\"l\"])\n",
    "print(vowelSeries[:-1]+constantSeries[:])"
   ]
  },
  {
   "cell_type": "code",
   "execution_count": null,
   "id": "f56dd65e-69b3-4ddd-b692-d3b7dcf3dd48",
   "metadata": {},
   "outputs": [],
   "source": []
  }
 ],
 "metadata": {
  "kernelspec": {
   "display_name": "Python 3 (ipykernel)",
   "language": "python",
   "name": "python3"
  },
  "language_info": {
   "codemirror_mode": {
    "name": "ipython",
    "version": 3
   },
   "file_extension": ".py",
   "mimetype": "text/x-python",
   "name": "python",
   "nbconvert_exporter": "python",
   "pygments_lexer": "ipython3",
   "version": "3.11.4"
  }
 },
 "nbformat": 4,
 "nbformat_minor": 5
}
