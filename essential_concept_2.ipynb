{
 "cells": [
  {
   "cell_type": "code",
   "execution_count": 4,
   "id": "cfe1d9be-3eba-4457-8c2b-82840c459c87",
   "metadata": {
    "tags": []
   },
   "outputs": [
    {
     "name": "stdout",
     "output_type": "stream",
     "text": [
      "   A    B\n",
      "0  1  5.0\n",
      "1  2  6.0\n",
      "2  3  NaN\n",
      "3  4  8.0\n",
      "4  3  9.0\n"
     ]
    }
   ],
   "source": [
    "import pandas as pd\n",
    "\n",
    "# Create a DataFrame\n",
    "data = {'A': [1, 2, 3, 4,3],\n",
    "        'B': [5, 6, None, 8,9]}  # Introducing a NaN (Not a Number) value\n",
    "df = pd.DataFrame(data)\n",
    "print(df)"
   ]
  },
  {
   "cell_type": "code",
   "execution_count": 5,
   "id": "7e1b0950-6e5c-4c4c-a115-31dad2d3e0fb",
   "metadata": {
    "tags": []
   },
   "outputs": [
    {
     "name": "stdout",
     "output_type": "stream",
     "text": [
      "    A     B\n",
      "0   1   5.0\n",
      "1   3  11.0\n",
      "2   6   NaN\n",
      "3  10  19.0\n",
      "4  13  28.0\n"
     ]
    }
   ],
   "source": [
    "print(df.cumsum())"
   ]
  },
  {
   "cell_type": "code",
   "execution_count": 6,
   "id": "7d83712e-9643-4404-a661-e37220930696",
   "metadata": {
    "tags": []
   },
   "outputs": [
    {
     "name": "stdout",
     "output_type": "stream",
     "text": [
      "                    Data\n",
      "First Second Third      \n",
      "A     X      W         1\n",
      "             X         2\n",
      "      Y      Y         3\n",
      "B     Y      Z         4\n",
      "      Z      W         5\n",
      "             X         6\n",
      "       Data\n",
      "Third      \n",
      "W         6\n",
      "X         8\n",
      "Y         3\n",
      "Z         4\n"
     ]
    },
    {
     "name": "stderr",
     "output_type": "stream",
     "text": [
      "C:\\Users\\Kunal\\AppData\\Local\\Temp\\ipykernel_10864\\1065553799.py:16: FutureWarning: Using the level keyword in DataFrame and Series aggregations is deprecated and will be removed in a future version. Use groupby instead. df.sum(level=1) should use df.groupby(level=1).sum().\n",
      "  sum_level2 = df.sum(level=2)\n"
     ]
    }
   ],
   "source": [
    "import pandas as pd\n",
    "\n",
    "# Create a three-level DataFrame\n",
    "arrays = [['A', 'A', 'A', 'B', 'B', 'B'],\n",
    "          ['X', 'X', 'Y', 'Y', 'Z', 'Z'],\n",
    "          ['W', 'X', 'Y', 'Z', 'W', 'X']]\n",
    "\n",
    "# Create a MultiIndex from the arrays\n",
    "index = pd.MultiIndex.from_arrays(arrays, names=('First', 'Second', 'Third'))\n",
    "\n",
    "# Create the DataFrame with random data\n",
    "df = pd.DataFrame({'Data': [1, 2, 3, 4, 5, 6]}, index=index)\n",
    "print(df)\n",
    "\n",
    "# Perform sum along level 2\n",
    "sum_level2 = df.sum(level=2)\n",
    "\n",
    "print(sum_level2)\n"
   ]
  },
  {
   "cell_type": "code",
   "execution_count": 9,
   "id": "da5dcabb-b0bb-4a4e-b092-d0b860055baa",
   "metadata": {
    "tags": []
   },
   "outputs": [
    {
     "name": "stdout",
     "output_type": "stream",
     "text": [
      "<function IndexOpsMixin.nunique at 0x0000014531C15E40>\n"
     ]
    }
   ],
   "source": [
    "print(getattr(pd.Series, \"nunique\"))"
   ]
  },
  {
   "cell_type": "code",
   "execution_count": 10,
   "id": "138ddf18-ea4f-421d-b48c-fcd821e91d55",
   "metadata": {
    "tags": []
   },
   "outputs": [
    {
     "name": "stdout",
     "output_type": "stream",
     "text": [
      "Help on function nunique in module pandas.core.base:\n",
      "\n",
      "nunique(self, dropna: 'bool' = True) -> 'int'\n",
      "    Return number of unique elements in the object.\n",
      "    \n",
      "    Excludes NA values by default.\n",
      "    \n",
      "    Parameters\n",
      "    ----------\n",
      "    dropna : bool, default True\n",
      "        Don't include NaN in the count.\n",
      "    \n",
      "    Returns\n",
      "    -------\n",
      "    int\n",
      "    \n",
      "    See Also\n",
      "    --------\n",
      "    DataFrame.nunique: Method nunique for DataFrame.\n",
      "    Series.count: Count non-NA/null observations in the Series.\n",
      "    \n",
      "    Examples\n",
      "    --------\n",
      "    >>> s = pd.Series([1, 3, 5, 7, 7])\n",
      "    >>> s\n",
      "    0    1\n",
      "    1    3\n",
      "    2    5\n",
      "    3    7\n",
      "    4    7\n",
      "    dtype: int64\n",
      "    \n",
      "    >>> s.nunique()\n",
      "    4\n",
      "\n"
     ]
    }
   ],
   "source": [
    "help(pd.Series.nunique)"
   ]
  },
  {
   "cell_type": "code",
   "execution_count": 13,
   "id": "ea1fbc71-dd98-4b18-b77f-addc2bc572df",
   "metadata": {
    "tags": []
   },
   "outputs": [
    {
     "name": "stdout",
     "output_type": "stream",
     "text": [
      "Help on function sum in module pandas.core.generic:\n",
      "\n",
      "sum(self, axis=None, skipna=True, level=None, numeric_only=None, min_count=0, **kwargs)\n",
      "    Return the sum of the values over the requested axis.\n",
      "    \n",
      "    This is equivalent to the method ``numpy.sum``.\n",
      "    \n",
      "    Parameters\n",
      "    ----------\n",
      "    axis : {index (0), columns (1)}\n",
      "        Axis for the function to be applied on.\n",
      "        For `Series` this parameter is unused and defaults to 0.\n",
      "    skipna : bool, default True\n",
      "        Exclude NA/null values when computing the result.\n",
      "    level : int or level name, default None\n",
      "        If the axis is a MultiIndex (hierarchical), count along a\n",
      "        particular level, collapsing into a Series.\n",
      "    \n",
      "        .. deprecated:: 1.3.0\n",
      "            The level keyword is deprecated. Use groupby instead.\n",
      "    numeric_only : bool, default None\n",
      "        Include only float, int, boolean columns. If None, will attempt to use\n",
      "        everything, then use only numeric data. Not implemented for Series.\n",
      "    \n",
      "        .. deprecated:: 1.5.0\n",
      "            Specifying ``numeric_only=None`` is deprecated. The default value will be\n",
      "            ``False`` in a future version of pandas.\n",
      "    \n",
      "    min_count : int, default 0\n",
      "        The required number of valid values to perform the operation. If fewer than\n",
      "        ``min_count`` non-NA values are present the result will be NA.\n",
      "    **kwargs\n",
      "        Additional keyword arguments to be passed to the function.\n",
      "    \n",
      "    Returns\n",
      "    -------\n",
      "    Series or DataFrame (if level specified)\n",
      "    \n",
      "    See Also\n",
      "    --------\n",
      "    Series.sum : Return the sum.\n",
      "    Series.min : Return the minimum.\n",
      "    Series.max : Return the maximum.\n",
      "    Series.idxmin : Return the index of the minimum.\n",
      "    Series.idxmax : Return the index of the maximum.\n",
      "    DataFrame.sum : Return the sum over the requested axis.\n",
      "    DataFrame.min : Return the minimum over the requested axis.\n",
      "    DataFrame.max : Return the maximum over the requested axis.\n",
      "    DataFrame.idxmin : Return the index of the minimum over the requested axis.\n",
      "    DataFrame.idxmax : Return the index of the maximum over the requested axis.\n",
      "    \n",
      "    Examples\n",
      "    --------\n",
      "    >>> idx = pd.MultiIndex.from_arrays([\n",
      "    ...     ['warm', 'warm', 'cold', 'cold'],\n",
      "    ...     ['dog', 'falcon', 'fish', 'spider']],\n",
      "    ...     names=['blooded', 'animal'])\n",
      "    >>> s = pd.Series([4, 2, 0, 8], name='legs', index=idx)\n",
      "    >>> s\n",
      "    blooded  animal\n",
      "    warm     dog       4\n",
      "             falcon    2\n",
      "    cold     fish      0\n",
      "             spider    8\n",
      "    Name: legs, dtype: int64\n",
      "    \n",
      "    >>> s.sum()\n",
      "    14\n",
      "    \n",
      "    By default, the sum of an empty or all-NA Series is ``0``.\n",
      "    \n",
      "    >>> pd.Series([], dtype=\"float64\").sum()  # min_count=0 is the default\n",
      "    0.0\n",
      "    \n",
      "    This can be controlled with the ``min_count`` parameter. For example, if\n",
      "    you'd like the sum of an empty series to be NaN, pass ``min_count=1``.\n",
      "    \n",
      "    >>> pd.Series([], dtype=\"float64\").sum(min_count=1)\n",
      "    nan\n",
      "    \n",
      "    Thanks to the ``skipna`` parameter, ``min_count`` handles all-NA and\n",
      "    empty series identically.\n",
      "    \n",
      "    >>> pd.Series([np.nan]).sum()\n",
      "    0.0\n",
      "    \n",
      "    >>> pd.Series([np.nan]).sum(min_count=1)\n",
      "    nan\n",
      "\n"
     ]
    }
   ],
   "source": [
    "help(pd.DataFrame.sum)"
   ]
  },
  {
   "cell_type": "code",
   "execution_count": 14,
   "id": "5304860f-0e43-4045-a448-307f2ac133e2",
   "metadata": {
    "tags": []
   },
   "outputs": [
    {
     "name": "stdout",
     "output_type": "stream",
     "text": [
      "           Data\n",
      "count  6.000000\n",
      "mean   3.500000\n",
      "std    1.870829\n",
      "min    1.000000\n",
      "25%    2.250000\n",
      "50%    3.500000\n",
      "75%    4.750000\n",
      "max    6.000000\n"
     ]
    }
   ],
   "source": [
    "print(df.describe())"
   ]
  },
  {
   "cell_type": "code",
   "execution_count": 15,
   "id": "054ee734-7aa6-42bf-93a2-068ead8ef85f",
   "metadata": {
    "tags": []
   },
   "outputs": [],
   "source": [
    "frame = pd.DataFrame({\"a\": [\"Yes\", \"Yes\", \"No\", \"No\"], \"b\": range(4)})\n"
   ]
  },
  {
   "cell_type": "code",
   "execution_count": 22,
   "id": "14d311a3-a425-4ba9-8d4c-9e371222defe",
   "metadata": {
    "tags": []
   },
   "outputs": [
    {
     "name": "stdout",
     "output_type": "stream",
     "text": [
      "          a\n",
      "count     4\n",
      "unique    2\n",
      "top     Yes\n",
      "freq      2\n"
     ]
    }
   ],
   "source": [
    "print(frame.describe(include=['object']))"
   ]
  },
  {
   "cell_type": "code",
   "execution_count": 23,
   "id": "9f585cc7-701c-4ee4-b209-d93c5fd4e0d2",
   "metadata": {
    "tags": []
   },
   "outputs": [
    {
     "name": "stdout",
     "output_type": "stream",
     "text": [
      "          a         b\n",
      "count     4  4.000000\n",
      "unique    2       NaN\n",
      "top     Yes       NaN\n",
      "freq      2       NaN\n",
      "mean    NaN  1.500000\n",
      "std     NaN  1.290994\n",
      "min     NaN  0.000000\n",
      "25%     NaN  0.750000\n",
      "50%     NaN  1.500000\n",
      "75%     NaN  2.250000\n",
      "max     NaN  3.000000\n"
     ]
    }
   ],
   "source": [
    "print(frame.describe(include=\"all\"))"
   ]
  },
  {
   "cell_type": "code",
   "execution_count": 34,
   "id": "56999c6e-be84-4a2b-8351-edd1558568e0",
   "metadata": {
    "tags": []
   },
   "outputs": [
    {
     "name": "stdout",
     "output_type": "stream",
     "text": [
      "4    9\n",
      "3    8\n",
      "5    8\n",
      "6    8\n",
      "0    7\n",
      "1    5\n",
      "2    5\n",
      "dtype: int64\n",
      "Help on function value_counts in module pandas.core.frame:\n",
      "\n",
      "value_counts(self, subset: 'Sequence[Hashable] | None' = None, normalize: 'bool' = False, sort: 'bool' = True, ascending: 'bool' = False, dropna: 'bool' = True) -> 'Series'\n",
      "    Return a Series containing counts of unique rows in the DataFrame.\n",
      "    \n",
      "    .. versionadded:: 1.1.0\n",
      "    \n",
      "    Parameters\n",
      "    ----------\n",
      "    subset : list-like, optional\n",
      "        Columns to use when counting unique combinations.\n",
      "    normalize : bool, default False\n",
      "        Return proportions rather than frequencies.\n",
      "    sort : bool, default True\n",
      "        Sort by frequencies.\n",
      "    ascending : bool, default False\n",
      "        Sort in ascending order.\n",
      "    dropna : bool, default True\n",
      "        Don’t include counts of rows that contain NA values.\n",
      "    \n",
      "        .. versionadded:: 1.3.0\n",
      "    \n",
      "    Returns\n",
      "    -------\n",
      "    Series\n",
      "    \n",
      "    See Also\n",
      "    --------\n",
      "    Series.value_counts: Equivalent method on Series.\n",
      "    \n",
      "    Notes\n",
      "    -----\n",
      "    The returned Series will have a MultiIndex with one level per input\n",
      "    column. By default, rows that contain any NA values are omitted from\n",
      "    the result. By default, the resulting Series will be in descending\n",
      "    order so that the first element is the most frequently-occurring row.\n",
      "    \n",
      "    Examples\n",
      "    --------\n",
      "    >>> df = pd.DataFrame({'num_legs': [2, 4, 4, 6],\n",
      "    ...                    'num_wings': [2, 0, 0, 0]},\n",
      "    ...                   index=['falcon', 'dog', 'cat', 'ant'])\n",
      "    >>> df\n",
      "            num_legs  num_wings\n",
      "    falcon         2          2\n",
      "    dog            4          0\n",
      "    cat            4          0\n",
      "    ant            6          0\n",
      "    \n",
      "    >>> df.value_counts()\n",
      "    num_legs  num_wings\n",
      "    4         0            2\n",
      "    2         2            1\n",
      "    6         0            1\n",
      "    dtype: int64\n",
      "    \n",
      "    >>> df.value_counts(sort=False)\n",
      "    num_legs  num_wings\n",
      "    2         2            1\n",
      "    4         0            2\n",
      "    6         0            1\n",
      "    dtype: int64\n",
      "    \n",
      "    >>> df.value_counts(ascending=True)\n",
      "    num_legs  num_wings\n",
      "    2         2            1\n",
      "    6         0            1\n",
      "    4         0            2\n",
      "    dtype: int64\n",
      "    \n",
      "    >>> df.value_counts(normalize=True)\n",
      "    num_legs  num_wings\n",
      "    4         0            0.50\n",
      "    2         2            0.25\n",
      "    6         0            0.25\n",
      "    dtype: float64\n",
      "    \n",
      "    With `dropna` set to `False` we can also count rows with NA values.\n",
      "    \n",
      "    >>> df = pd.DataFrame({'first_name': ['John', 'Anne', 'John', 'Beth'],\n",
      "    ...                    'middle_name': ['Smith', pd.NA, pd.NA, 'Louise']})\n",
      "    >>> df\n",
      "      first_name middle_name\n",
      "    0       John       Smith\n",
      "    1       Anne        <NA>\n",
      "    2       John        <NA>\n",
      "    3       Beth      Louise\n",
      "    \n",
      "    >>> df.value_counts()\n",
      "    first_name  middle_name\n",
      "    Beth        Louise         1\n",
      "    John        Smith          1\n",
      "    dtype: int64\n",
      "    \n",
      "    >>> df.value_counts(dropna=False)\n",
      "    first_name  middle_name\n",
      "    Anne        NaN            1\n",
      "    Beth        Louise         1\n",
      "    John        Smith          1\n",
      "                NaN            1\n",
      "    dtype: int64\n",
      "\n"
     ]
    }
   ],
   "source": [
    "import numpy as np\n",
    "\n",
    "data = np.random.randint(0, 7, size=50)\n",
    "data_frame=pd.DataFrame(data)\n",
    "print(data_frame.value_counts())\n",
    "help(pd.DataFrame.value_counts)"
   ]
  },
  {
   "cell_type": "code",
   "execution_count": null,
   "id": "c6372850-c02f-4b97-9fe9-169616e3ab51",
   "metadata": {},
   "outputs": [],
   "source": [
    "import pandas as pd\n",
    "import numpy as np\n",
    "\n",
    "# Create a DataFrame with some sample data\n",
    "data = pd.DataFrame({'values': np.random.randint(1, 100, 20)})  # Random integers between 1 and 100\n",
    "\n",
    "# Using cut to divide the data into 5 bins of equal width\n",
    "data['bins_cut'] = pd.cut(data['values'], bins=5)\n",
    "\n",
    "# Using qcut to divide the data into 5 bins of equal frequency\n",
    "data['bins_qcut'] = pd.qcut(data['values'], q=5)\n",
    "\n",
    "# Print the original data along with the bins created by cut and qcut\n",
    "print(\"Original Data:\")\n",
    "print(data[['values']])\n",
    "print(\"\\nBins created by cut:\")\n",
    "print(data[['values', 'bins_cut']])\n",
    "print(\"\\nBins created by qcut:\")\n",
    "print(data[['values', 'bins_qcut']])\n"
   ]
  }
 ],
 "metadata": {
  "kernelspec": {
   "display_name": "Python 3 (ipykernel)",
   "language": "python",
   "name": "python3"
  },
  "language_info": {
   "codemirror_mode": {
    "name": "ipython",
    "version": 3
   },
   "file_extension": ".py",
   "mimetype": "text/x-python",
   "name": "python",
   "nbconvert_exporter": "python",
   "pygments_lexer": "ipython3",
   "version": "3.11.4"
  }
 },
 "nbformat": 4,
 "nbformat_minor": 5
}
