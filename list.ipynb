{
 "cells": [
  {
   "cell_type": "markdown",
   "id": "dbc2f3bd-1832-4adc-84da-2ed2d6d876ff",
   "metadata": {
    "tags": []
   },
   "source": [
    "# List"
   ]
  },
  {
   "cell_type": "code",
   "execution_count": 22,
   "id": "d90f10ee-742d-4c2f-ab92-b7d3954d1e2a",
   "metadata": {
    "tags": []
   },
   "outputs": [
    {
     "name": "stdout",
     "output_type": "stream",
     "text": [
      "Keema\n",
      "Maida\n",
      "Achaar\n",
      "Pot\n",
      "3\n",
      "['Keema', 'Maida', 'Achaar', 'Pot', 'Plates']\n",
      "Plates\n",
      "['Keema', 'Maida', 'Achaar', 'Plates', 'Pot', 'Plates']\n",
      "Hello\n"
     ]
    }
   ],
   "source": [
    "momo_ingirdents_initial=[\"Keema\",\"Maida\",\"Achaar\",\"Pot\"]\n",
    "momo_ingirdents_initial.append(\"Plates\")\n",
    "momo_ingirdents_final=momo_ingirdents_initial[:]\n",
    "for ingridents in momo_ingirdents_initial:\n",
    "    print(ingridents)\n",
    "    if ingridents==\"Pot\":\n",
    "        insert_indext=momo_ingirdents_initial.index(ingridents)\n",
    "        print(insert_indext)\n",
    "        momo_ingirdents_final.insert(insert_indext, \"Plates\")\n",
    "        print(momo_ingirdents_initial)\n",
    "print(momo_ingirdents_final)\n",
    "print(\"Hello\")"
   ]
  },
  {
   "cell_type": "code",
   "execution_count": 23,
   "id": "b4df0d86-8b8c-4317-8cca-fa869894d600",
   "metadata": {
    "tags": []
   },
   "outputs": [
    {
     "name": "stdout",
     "output_type": "stream",
     "text": [
      "deque(['3 People', 'Keema', 'Maida', 'Achaar', 'Plates', 'Pot', 'Plates', 'Enjoy'])\n"
     ]
    }
   ],
   "source": [
    "# We can insert element at first and last location of a list using \"COLLECTIONS.deque()\"\n",
    "import collections\n",
    "momo_queue=collections.deque(momo_ingirdents_final)\n",
    "momo_queue.appendleft(\"3 People\")\n",
    "momo_queue.append(\"Enjoy\")\n",
    "print(momo_queue)"
   ]
  },
  {
   "cell_type": "code",
   "execution_count": 25,
   "id": "6539b1ea-9551-4248-8099-11a263ef99b3",
   "metadata": {
    "tags": []
   },
   "outputs": [
    {
     "name": "stdout",
     "output_type": "stream",
     "text": [
      "Pot\n",
      "the original list\n",
      "['Keema', 'Maida', 'Achaar', 'Plates', 'Plates']\n"
     ]
    }
   ],
   "source": [
    "# the difference between pop and remove() is that we can use the element after it is popped, but removes discards the element.\n",
    "pop_pot=momo_ingirdents_final.pop(4)\n",
    "print(pop_pot)\n",
    "print(\"the original list\")\n",
    "print(momo_ingirdents_final)"
   ]
  },
  {
   "cell_type": "code",
   "execution_count": 26,
   "id": "e7865f53-0c33-491b-814b-9ea463d91d93",
   "metadata": {
    "tags": []
   },
   "outputs": [
    {
     "name": "stdout",
     "output_type": "stream",
     "text": [
      "['Keema', 'Maida', 'Plates', 'Plates']\n"
     ]
    }
   ],
   "source": [
    "remove_achaar=momo_ingirdents_final.remove(\"Achaar\")\n",
    "\n",
    "print(momo_ingirdents_final)"
   ]
  },
  {
   "cell_type": "code",
   "execution_count": 28,
   "id": "86bb4842-0fe6-43d7-97d6-d97aab2f9c94",
   "metadata": {
    "tags": []
   },
   "outputs": [
    {
     "name": "stdout",
     "output_type": "stream",
     "text": [
      "True\n"
     ]
    }
   ],
   "source": [
    "if \"Plates\" in momo_ingirdents_final:\n",
    "    print(\"True\")"
   ]
  },
  {
   "cell_type": "code",
   "execution_count": null,
   "id": "1de96354-ad17-4d48-8947-93bf3ae78d3e",
   "metadata": {},
   "outputs": [],
   "source": []
  }
 ],
 "metadata": {
  "kernelspec": {
   "display_name": "Python 3 (ipykernel)",
   "language": "python",
   "name": "python3"
  },
  "language_info": {
   "codemirror_mode": {
    "name": "ipython",
    "version": 3
   },
   "file_extension": ".py",
   "mimetype": "text/x-python",
   "name": "python",
   "nbconvert_exporter": "python",
   "pygments_lexer": "ipython3",
   "version": "3.11.4"
  }
 },
 "nbformat": 4,
 "nbformat_minor": 5
}
