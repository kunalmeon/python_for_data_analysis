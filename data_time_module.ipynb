{
 "cells": [
  {
   "cell_type": "markdown",
   "id": "2285026b-a3b4-42ce-9c9b-94872d550885",
   "metadata": {
    "tags": []
   },
   "source": [
    "# DateTime module"
   ]
  },
  {
   "cell_type": "code",
   "execution_count": 20,
   "id": "16b5ea36-da8e-48bb-a0f6-495236fc66fa",
   "metadata": {
    "tags": []
   },
   "outputs": [
    {
     "name": "stdout",
     "output_type": "stream",
     "text": [
      "['__add__', '__class__', '__delattr__', '__dir__', '__doc__', '__eq__', '__format__', '__ge__', '__getattribute__', '__getstate__', '__gt__', '__hash__', '__init__', '__init_subclass__', '__le__', '__lt__', '__ne__', '__new__', '__radd__', '__reduce__', '__reduce_ex__', '__repr__', '__rsub__', '__setattr__', '__sizeof__', '__str__', '__sub__', '__subclasshook__', 'astimezone', 'combine', 'ctime', 'date', 'day', 'dst', 'fold', 'fromisocalendar', 'fromisoformat', 'fromordinal', 'fromtimestamp', 'hour', 'isocalendar', 'isoformat', 'isoweekday', 'max', 'microsecond', 'min', 'minute', 'month', 'now', 'replace', 'resolution', 'second', 'strftime', 'strptime', 'time', 'timestamp', 'timetuple', 'timetz', 'today', 'toordinal', 'tzinfo', 'tzname', 'utcfromtimestamp', 'utcnow', 'utcoffset', 'utctimetuple', 'weekday', 'year']\n"
     ]
    }
   ],
   "source": [
    "from datetime import  datetime\n",
    "print(dir(datetime))\n",
    "\n"
   ]
  },
  {
   "cell_type": "code",
   "execution_count": 21,
   "id": "442a0c2d-8cd3-4a66-aa2f-b2193090ffc3",
   "metadata": {
    "tags": []
   },
   "outputs": [
    {
     "name": "stdout",
     "output_type": "stream",
     "text": [
      "2023-12-22\n"
     ]
    }
   ],
   "source": [
    "print(datetime.now().date())"
   ]
  },
  {
   "cell_type": "code",
   "execution_count": 28,
   "id": "8da1143c-8241-44c8-9bff-4b7f222a3cab",
   "metadata": {
    "tags": []
   },
   "outputs": [
    {
     "name": "stdout",
     "output_type": "stream",
     "text": [
      "21\n"
     ]
    }
   ],
   "source": [
    "\n",
    "print(datetime.now().time().hour)"
   ]
  },
  {
   "cell_type": "markdown",
   "id": "8ce78c47-6b9d-42cd-b841-35dc2f72a24d",
   "metadata": {},
   "source": [
    "### If you saw an error like 'int' object is not callabel then you are calling the single value e.g hour gives single value\n",
    "### so we can not use like print(datetime.now().time().hour())"
   ]
  },
  {
   "cell_type": "code",
   "execution_count": 29,
   "id": "84850ff9-0276-4d48-b903-e13904fdd026",
   "metadata": {
    "tags": []
   },
   "outputs": [
    {
     "ename": "TypeError",
     "evalue": "'int' object is not callable",
     "output_type": "error",
     "traceback": [
      "\u001b[1;31m---------------------------------------------------------------------------\u001b[0m",
      "\u001b[1;31mTypeError\u001b[0m                                 Traceback (most recent call last)",
      "Cell \u001b[1;32mIn[29], line 1\u001b[0m\n\u001b[1;32m----> 1\u001b[0m \u001b[38;5;28mprint\u001b[39m(datetime\u001b[38;5;241m.\u001b[39mnow()\u001b[38;5;241m.\u001b[39mtime()\u001b[38;5;241m.\u001b[39mhour())\n",
      "\u001b[1;31mTypeError\u001b[0m: 'int' object is not callable"
     ]
    }
   ],
   "source": [
    "print(datetime.now().time().hour())"
   ]
  },
  {
   "cell_type": "code",
   "execution_count": 30,
   "id": "b67f1ea7-3627-4291-aeb5-2b8dd9b1e2b2",
   "metadata": {
    "tags": []
   },
   "outputs": [
    {
     "name": "stdout",
     "output_type": "stream",
     "text": [
      "12\n",
      "12\n"
     ]
    }
   ],
   "source": [
    "print(datetime.now().date().month); print(datetime.now().month)"
   ]
  },
  {
   "cell_type": "code",
   "execution_count": 32,
   "id": "710db44f-068f-403a-803b-650b7bd641c9",
   "metadata": {
    "tags": []
   },
   "outputs": [
    {
     "name": "stdout",
     "output_type": "stream",
     "text": [
      "22\n"
     ]
    }
   ],
   "source": [
    "print(datetime.now().day)"
   ]
  },
  {
   "cell_type": "code",
   "execution_count": 61,
   "id": "1ccadd59-d38d-4db9-b48e-dd5c08dc177f",
   "metadata": {
    "tags": []
   },
   "outputs": [
    {
     "name": "stdout",
     "output_type": "stream",
     "text": [
      "1992-06-20 00:00:00\n",
      "1992-06-30 12:32:40\n",
      "20/06/1992 00:00:00\n"
     ]
    }
   ],
   "source": [
    "#  Converting string date on datetime object\n",
    "birthday=\"20/06/1992\"\n",
    "birthday_time_object=datetime.strptime(birthday, \"%d/%m/%Y\")\n",
    "print(birthday_time_object)\n",
    "\n",
    "# note replace method does not change the original date so we need to store after replacing it.\n",
    "changed_birthday=birthday_time_object.replace(hour=12, minute=32, second=40, day=30)\n",
    "print(changed_birthday)\n",
    "\n",
    "\n",
    "# we can directly apply string format method to datetime object as belows\n",
    "datetime_object_to_string=birthday_time_object.strftime(\"%d/%m/%Y %H:%M:%S\")\n",
    "print(datetime_object_to_string)"
   ]
  },
  {
   "cell_type": "code",
   "execution_count": 75,
   "id": "2409e971-b80f-4292-beef-d5cff2ccaa9d",
   "metadata": {
    "tags": []
   },
   "outputs": [
    {
     "name": "stdout",
     "output_type": "stream",
     "text": [
      "1992-06-20 01:02:30\n",
      "1992-06-30 01:02:30\n",
      "1992/06/30 01:02:30\n"
     ]
    }
   ],
   "source": [
    "#Another way of creating birthday\n",
    "wrong_birthday=datetime(1992,6,20,1,2,30)\n",
    "print(wrong_birthday)\n",
    "corrected_birthday=wrong_birthday.replace(day=30)\n",
    "print(corrected_birthday)\n",
    "\n",
    "string_from=corrected_birthday.strftime(\"%Y/%m/%d %H:%M:%S\")\n",
    "print(string_from)\n"
   ]
  },
  {
   "cell_type": "code",
   "execution_count": null,
   "id": "47f68722-d8c0-489e-9d46-b43c73b7ac4a",
   "metadata": {},
   "outputs": [],
   "source": []
  }
 ],
 "metadata": {
  "kernelspec": {
   "display_name": "Python 3 (ipykernel)",
   "language": "python",
   "name": "python3"
  },
  "language_info": {
   "codemirror_mode": {
    "name": "ipython",
    "version": 3
   },
   "file_extension": ".py",
   "mimetype": "text/x-python",
   "name": "python",
   "nbconvert_exporter": "python",
   "pygments_lexer": "ipython3",
   "version": "3.11.4"
  }
 },
 "nbformat": 4,
 "nbformat_minor": 5
}
