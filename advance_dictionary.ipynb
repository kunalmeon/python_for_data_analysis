{
 "cells": [
  {
   "cell_type": "code",
   "execution_count": 1,
   "id": "23dd3548",
   "metadata": {},
   "outputs": [],
   "source": [
    "import pandas as pd\n"
   ]
  },
  {
   "cell_type": "code",
   "execution_count": 2,
   "id": "60a0154e",
   "metadata": {},
   "outputs": [],
   "source": [
    "empty_data_frame=pd.DataFrame()"
   ]
  },
  {
   "cell_type": "code",
   "execution_count": 3,
   "id": "055edcbf",
   "metadata": {},
   "outputs": [
    {
     "name": "stdout",
     "output_type": "stream",
     "text": [
      "    Name\n",
      "0  karan\n",
      "1  suman\n",
      "2  niraj\n"
     ]
    }
   ],
   "source": [
    "empty_data_frame[\"Name\"]=[\"karan\",\"suman\",\"niraj\"]\n",
    "print(empty_data_frame)"
   ]
  },
  {
   "cell_type": "code",
   "execution_count": 4,
   "id": "ecd2bbc3",
   "metadata": {},
   "outputs": [
    {
     "ename": "SyntaxError",
     "evalue": "invalid syntax (2367974461.py, line 1)",
     "output_type": "error",
     "traceback": [
      "\u001b[1;36m  Cell \u001b[1;32mIn[4], line 1\u001b[1;36m\u001b[0m\n\u001b[1;33m    empty_data_frame ?\u001b[0m\n\u001b[1;37m                     ^\u001b[0m\n\u001b[1;31mSyntaxError\u001b[0m\u001b[1;31m:\u001b[0m invalid syntax\n"
     ]
    }
   ],
   "source": [
    "empty_data_frame ?\n"
   ]
  },
  {
   "cell_type": "code",
   "execution_count": 5,
   "id": "b49b7455",
   "metadata": {},
   "outputs": [],
   "source": [
    "empty_data_frame?"
   ]
  },
  {
   "cell_type": "code",
   "execution_count": 7,
   "id": "f45251dd",
   "metadata": {},
   "outputs": [
    {
     "name": "stdout",
     "output_type": "stream",
     "text": [
      "1\n",
      "2\n",
      "3\n",
      "4\n",
      "5\n",
      "6\n",
      "7\n",
      "8\n",
      "9\n"
     ]
    }
   ],
   "source": [
    "for i in range(1,10):\n",
    "    print(i)"
   ]
  },
  {
   "cell_type": "code",
   "execution_count": 19,
   "id": "62f508bd",
   "metadata": {},
   "outputs": [
    {
     "name": "stdout",
     "output_type": "stream",
     "text": [
      "python for data analaysis\n"
     ]
    }
   ],
   "source": [
    "subject=\"Python FOR data analaysis\"\n",
    "subject=subject.casefold()\n",
    "getattr(subject, \"casefold\")\n",
    "print(subject)"
   ]
  },
  {
   "cell_type": "code",
   "execution_count": 21,
   "id": "12807986",
   "metadata": {},
   "outputs": [
    {
     "data": {
      "text/plain": [
       "<function str.center(width, fillchar=' ', /)>"
      ]
     },
     "execution_count": 21,
     "metadata": {},
     "output_type": "execute_result"
    }
   ],
   "source": [
    "getattr(subject,\"center\")"
   ]
  },
  {
   "cell_type": "code",
   "execution_count": 38,
   "id": "e2edce1c",
   "metadata": {},
   "outputs": [
    {
     "data": {
      "text/plain": [
       "'kkkkkkkkkkkkkkkkkkkkkkkkkkkkkkkkkkkkkkkkkkkkkkkkkkkkkkkkkkkkkkkkkkkkkkkkkkkkkkkkkkkkkkkkkkkkkkkkkkkkkkkkkkkkkkkkkkkkkkkkkkkkkkkkkkkkkkkkkkkkkkkkkkkkkkkkpython for data analaysiskkkkkkkkkkkkkkkkkkkkkkkkkkkkkkkkkkkkkkkkkkkkkkkkkkkkkkkkkkkkkkkkkkkkkkkkkkkkkkkkkkkkkkkkkkkkkkkkkkkkkkkkkkkkkkkkkkkkkkkkkkkkkkkkkkkkkkkkkkkkkkkkkkkkkkkkk'"
      ]
     },
     "execution_count": 38,
     "metadata": {},
     "output_type": "execute_result"
    }
   ],
   "source": [
    "subject.center(330, 'k')"
   ]
  },
  {
   "cell_type": "code",
   "execution_count": 44,
   "id": "215dc915",
   "metadata": {},
   "outputs": [
    {
     "data": {
      "text/plain": [
       "'This object is not iterable'"
      ]
     },
     "execution_count": 44,
     "metadata": {},
     "output_type": "execute_result"
    }
   ],
   "source": [
    "def is_iterable(object):\n",
    "    try:\n",
    "        iter(object)\n",
    "        return \"The object is iterable\"\n",
    "    except:\n",
    "        return \"This object is not iterable\"\n",
    "\n",
    "is_iterable(5)\n"
   ]
  },
  {
   "cell_type": "code",
   "execution_count": 48,
   "id": "7bd8a522",
   "metadata": {},
   "outputs": [
    {
     "ename": "SyntaxError",
     "evalue": "unterminated string literal (detected at line 4) (109830358.py, line 4)",
     "output_type": "error",
     "traceback": [
      "\u001b[1;36m  Cell \u001b[1;32mIn[48], line 4\u001b[1;36m\u001b[0m\n\u001b[1;33m    hello='THe boy called hello is coming from shopping with some good things in the bag\u001b[0m\n\u001b[1;37m          ^\u001b[0m\n\u001b[1;31mSyntaxError\u001b[0m\u001b[1;31m:\u001b[0m unterminated string literal (detected at line 4)\n"
     ]
    }
   ],
   "source": [
    "slogan=''' I don't think that the Abhishek dai will put words to his father about the goods i wanted to send Nepal\n",
    "It is okay if he does or does not'''\n",
    "print(slogan)\n",
    "hello='THe boy called hello is coming from shopping with some good things in the bag\n",
    " okay now i see the difference between two and three line'"
   ]
  },
  {
   "cell_type": "code",
   "execution_count": 49,
   "id": "1948bc7a",
   "metadata": {},
   "outputs": [
    {
     "name": "stdout",
     "output_type": "stream",
     "text": [
      "r\n"
     ]
    }
   ],
   "source": [
    "song='jara kabhi'\n",
    "print(song[2])"
   ]
  },
  {
   "cell_type": "code",
   "execution_count": 50,
   "id": "ab4e0945",
   "metadata": {},
   "outputs": [
    {
     "data": {
      "text/plain": [
       "<function str.rindex>"
      ]
     },
     "execution_count": 50,
     "metadata": {},
     "output_type": "execute_result"
    }
   ],
   "source": [
    "getattr(song,'rindex')"
   ]
  },
  {
   "cell_type": "code",
   "execution_count": 51,
   "id": "303e20f1",
   "metadata": {},
   "outputs": [
    {
     "name": "stdout",
     "output_type": "stream",
     "text": [
      "<built-in method rindex of str object at 0x00000293589C61B0>\n"
     ]
    }
   ],
   "source": [
    "print(song.rindex)"
   ]
  },
  {
   "cell_type": "code",
   "execution_count": 52,
   "id": "425efaf1",
   "metadata": {},
   "outputs": [
    {
     "data": {
      "text/plain": [
       "<function str.partition(sep, /)>"
      ]
     },
     "execution_count": 52,
     "metadata": {},
     "output_type": "execute_result"
    }
   ],
   "source": [
    "getattr(song,'partition')"
   ]
  },
  {
   "cell_type": "code",
   "execution_count": 54,
   "id": "f184ea2a",
   "metadata": {},
   "outputs": [
    {
     "name": "stdout",
     "output_type": "stream",
     "text": [
      "('j', 'a', 'ra kabhi')\n"
     ]
    }
   ],
   "source": [
    "print(song.partition('a'))"
   ]
  },
  {
   "cell_type": "code",
   "execution_count": 55,
   "id": "8fce3703",
   "metadata": {},
   "outputs": [
    {
     "name": "stdout",
     "output_type": "stream",
     "text": [
      "jara kabhi\n"
     ]
    }
   ],
   "source": [
    "print(song)"
   ]
  },
  {
   "cell_type": "code",
   "execution_count": 56,
   "id": "62129f02",
   "metadata": {},
   "outputs": [
    {
     "name": "stdout",
     "output_type": "stream",
     "text": [
      "['K', 'a', 'r', 'a', 'n']\n"
     ]
    }
   ],
   "source": [
    "print(list(\"Karan\"))"
   ]
  },
  {
   "cell_type": "code",
   "execution_count": 59,
   "id": "836a0b70",
   "metadata": {},
   "outputs": [
    {
     "name": "stdout",
     "output_type": "stream",
     "text": [
      "['My', 'name', 'is', 'karan']\n"
     ]
    }
   ],
   "source": [
    "print(\"My name is karan\".split())"
   ]
  },
  {
   "cell_type": "code",
   "execution_count": 62,
   "id": "381a83de",
   "metadata": {},
   "outputs": [
    {
     "name": "stdout",
     "output_type": "stream",
     "text": [
      "this\\has\n",
      "o\\special\\characters\n"
     ]
    }
   ],
   "source": [
    "s = \"this\\has\\no\\special\\characters\"\n",
    "print(s)"
   ]
  },
  {
   "cell_type": "code",
   "execution_count": 65,
   "id": "a8b4ef37",
   "metadata": {},
   "outputs": [
    {
     "name": "stdout",
     "output_type": "stream",
     "text": [
      "this\\has\n",
      "o\\special\\characters\n"
     ]
    }
   ],
   "source": [
    "s = \"this\\has\\no\\special\\characters\"\n",
    "print(s)"
   ]
  },
  {
   "cell_type": "code",
   "execution_count": 66,
   "id": "a6f5c88d",
   "metadata": {},
   "outputs": [
    {
     "name": "stdout",
     "output_type": "stream",
     "text": [
      "['this\\\\has', 'o\\\\special\\\\characters']\n"
     ]
    }
   ],
   "source": [
    "print(s.split())"
   ]
  },
  {
   "cell_type": "code",
   "execution_count": 67,
   "id": "646a6fcd",
   "metadata": {},
   "outputs": [
    {
     "name": "stdout",
     "output_type": "stream",
     "text": [
      "('this', '\\\\', 'has\\no\\\\special\\\\characters')\n"
     ]
    }
   ],
   "source": [
    "print(s.partition(\"\\\\\"))"
   ]
  },
  {
   "cell_type": "code",
   "execution_count": 74,
   "id": "4f139c89",
   "metadata": {},
   "outputs": [
    {
     "name": "stdout",
     "output_type": "stream",
     "text": [
      "15:30:00\n"
     ]
    }
   ],
   "source": [
    "from datetime import datetime,timedelta\n",
    "project_meeting=datetime(2024,1,29, 15,30)\n",
    "print(project_meeting.time())"
   ]
  },
  {
   "cell_type": "code",
   "execution_count": 75,
   "id": "3ff3cd36",
   "metadata": {},
   "outputs": [
    {
     "name": "stdout",
     "output_type": "stream",
     "text": [
      "2024-01-29 16:00:00\n"
     ]
    }
   ],
   "source": [
    "project_duration=timedelta(hours=0, minutes=30)\n",
    "total_time=project_duration+project_meeting\n",
    "print(total_time)"
   ]
  },
  {
   "cell_type": "code",
   "execution_count": 90,
   "id": "91cd7fd3",
   "metadata": {},
   "outputs": [
    {
     "data": {
      "text/plain": [
       "'2024-01-29 16:00'"
      ]
     },
     "execution_count": 90,
     "metadata": {},
     "output_type": "execute_result"
    }
   ],
   "source": [
    "total_time.strftime(\"%Y-%m-%d %H:%M\")"
   ]
  },
  {
   "cell_type": "code",
   "execution_count": 82,
   "id": "f313ec65",
   "metadata": {},
   "outputs": [
    {
     "name": "stdout",
     "output_type": "stream",
     "text": [
      "2024-01-29 16:00:00\n"
     ]
    }
   ],
   "source": [
    "print(total_time)"
   ]
  },
  {
   "cell_type": "code",
   "execution_count": 91,
   "id": "e7cf51e1",
   "metadata": {},
   "outputs": [
    {
     "name": "stdout",
     "output_type": "stream",
     "text": [
      "2024-01-29 00:00:00\n"
     ]
    }
   ],
   "source": [
    "print(datetime.strptime(\"20240129\",\"%Y%m%d\"))"
   ]
  },
  {
   "cell_type": "code",
   "execution_count": 95,
   "id": "87b903d4",
   "metadata": {},
   "outputs": [
    {
     "name": "stdout",
     "output_type": "stream",
     "text": [
      "(2, 3)\n",
      "(4, 5, 6)\n",
      "(2, 3, 4, 5, 6)\n",
      "(2, 3)\n"
     ]
    }
   ],
   "source": [
    "first_tuple=(2,3)\n",
    "#first_tuple.append(4)\n",
    "second_tuple=(4,5,6)\n",
    "all_tuples=first_tuple+second_tuple\n",
    "print(first_tuple)\n",
    "print(second_tuple)\n",
    "print(all_tuples)\n",
    "print(all_tuples[:2])"
   ]
  },
  {
   "cell_type": "code",
   "execution_count": 99,
   "id": "9aab393a",
   "metadata": {},
   "outputs": [
    {
     "name": "stdout",
     "output_type": "stream",
     "text": [
      "[[1, 2, 4], [4, 5, 6]]\n"
     ]
    }
   ],
   "source": [
    "nested_list=[[1,2,4],[4,5,6]]\n",
    "print(nested_list)"
   ]
  },
  {
   "cell_type": "code",
   "execution_count": 100,
   "id": "1a8f7a2f",
   "metadata": {},
   "outputs": [
    {
     "name": "stdout",
     "output_type": "stream",
     "text": [
      "[2, [4, 5, 6]]\n"
     ]
    }
   ],
   "source": [
    "nested_list[0]=2\n",
    "print(nested_list)"
   ]
  },
  {
   "cell_type": "code",
   "execution_count": 101,
   "id": "08a72f66",
   "metadata": {},
   "outputs": [
    {
     "name": "stdout",
     "output_type": "stream",
     "text": [
      "['kaam', 'ma', 'kaam', 'ma', 'kaam', 'ma', 'kaam', 'ma']\n"
     ]
    }
   ],
   "source": [
    "print([\"kaam\",\"ma\"]*4)"
   ]
  },
  {
   "cell_type": "code",
   "execution_count": 102,
   "id": "fd9827ce",
   "metadata": {},
   "outputs": [],
   "source": [
    "tup = 4, 5, (6, 7)"
   ]
  },
  {
   "cell_type": "code",
   "execution_count": 103,
   "id": "3560de0a",
   "metadata": {},
   "outputs": [
    {
     "name": "stdout",
     "output_type": "stream",
     "text": [
      "(4, 5, (6, 7))\n"
     ]
    }
   ],
   "source": [
    "print(tup)"
   ]
  },
  {
   "cell_type": "code",
   "execution_count": 114,
   "id": "2f3f6317",
   "metadata": {},
   "outputs": [
    {
     "name": "stdout",
     "output_type": "stream",
     "text": [
      "a: 4\n"
     ]
    }
   ],
   "source": [
    "a, *_=tup\n",
    "print(\"a:\",a)"
   ]
  },
  {
   "cell_type": "code",
   "execution_count": 115,
   "id": "7968f018",
   "metadata": {},
   "outputs": [
    {
     "name": "stdout",
     "output_type": "stream",
     "text": [
      "[5, (6, 7)]\n"
     ]
    }
   ],
   "source": [
    "print(_)"
   ]
  },
  {
   "cell_type": "code",
   "execution_count": 111,
   "id": "e3a03224",
   "metadata": {},
   "outputs": [
    {
     "name": "stdout",
     "output_type": "stream",
     "text": [
      "4\n"
     ]
    }
   ],
   "source": [
    "print(tup[0])"
   ]
  },
  {
   "cell_type": "code",
   "execution_count": 112,
   "id": "db70dae3",
   "metadata": {},
   "outputs": [
    {
     "name": "stdout",
     "output_type": "stream",
     "text": [
      "1 2 3\n",
      "4 5 6\n",
      "7 8 9\n"
     ]
    }
   ],
   "source": [
    "seq = [(1, 2, 3), (4, 5, 6), (7, 8, 9)]\n",
    "for a,b,c in seq:\n",
    "    print(a,b,c)"
   ]
  },
  {
   "cell_type": "code",
   "execution_count": 116,
   "id": "028c03f9",
   "metadata": {},
   "outputs": [
    {
     "data": {
      "text/plain": [
       "dict_keys(['a', 'b'])"
      ]
     },
     "execution_count": 116,
     "metadata": {},
     "output_type": "execute_result"
    }
   ],
   "source": [
    "d1 = {\"a\": \"some value\", \"b\": [1, 2, 3, 4]}\n",
    "d1.keys()"
   ]
  },
  {
   "cell_type": "code",
   "execution_count": 117,
   "id": "63475072",
   "metadata": {},
   "outputs": [
    {
     "data": {
      "text/plain": [
       "dict_values(['some value', [1, 2, 3, 4]])"
      ]
     },
     "execution_count": 117,
     "metadata": {},
     "output_type": "execute_result"
    }
   ],
   "source": [
    "d1.values()"
   ]
  },
  {
   "cell_type": "code",
   "execution_count": 118,
   "id": "c58971d5",
   "metadata": {},
   "outputs": [
    {
     "name": "stdout",
     "output_type": "stream",
     "text": [
      "[1, 2, 3, 4]\n"
     ]
    }
   ],
   "source": [
    "some_list=d1[\"b\"]\n",
    "print(some_list)"
   ]
  },
  {
   "cell_type": "code",
   "execution_count": 124,
   "id": "2f5f00d7",
   "metadata": {},
   "outputs": [
    {
     "name": "stdout",
     "output_type": "stream",
     "text": [
      "{'a': 'some value', 'b': [1, 2, 3, 4], 'name': 'Karan Budha Air'}\n"
     ]
    }
   ],
   "source": [
    "d1[\"name\"]=\"Karan Budha Air\"\n",
    "print(d1)"
   ]
  },
  {
   "cell_type": "code",
   "execution_count": 125,
   "id": "81e72eae",
   "metadata": {},
   "outputs": [
    {
     "name": "stdout",
     "output_type": "stream",
     "text": [
      "{'a': 'some value', 'b': [1, 2, 3, 4]}\n"
     ]
    }
   ],
   "source": [
    "name=d1.pop(\"name\")\n",
    "print(d1)"
   ]
  },
  {
   "cell_type": "code",
   "execution_count": 132,
   "id": "8df01cee",
   "metadata": {},
   "outputs": [
    {
     "name": "stdout",
     "output_type": "stream",
     "text": [
      "{'b': [1, 2, 3, 4], 'a': 'Another value'}\n",
      "dict_items([('b', [1, 2, 3, 4]), ('a', 'Another value')])\n",
      "[1, 2, 3, 4]\n"
     ]
    }
   ],
   "source": [
    "print(d1)\n",
    "d1[\"a\"]=\"Another value\"\n",
    "print(d1.items())\n",
    "print(d1[\"b\"])"
   ]
  },
  {
   "cell_type": "code",
   "execution_count": 127,
   "id": "00e50af6",
   "metadata": {},
   "outputs": [
    {
     "name": "stdout",
     "output_type": "stream",
     "text": [
      "Karan Budha Air\n"
     ]
    }
   ],
   "source": [
    "print(name)"
   ]
  },
  {
   "cell_type": "code",
   "execution_count": 128,
   "id": "9060c13f",
   "metadata": {},
   "outputs": [],
   "source": [
    "del d1[\"a\"]"
   ]
  },
  {
   "cell_type": "code",
   "execution_count": 129,
   "id": "a3e873b1",
   "metadata": {},
   "outputs": [
    {
     "name": "stdout",
     "output_type": "stream",
     "text": [
      "{'b': [1, 2, 3, 4]}\n"
     ]
    }
   ],
   "source": [
    "print(d1)"
   ]
  },
  {
   "cell_type": "code",
   "execution_count": 133,
   "id": "e10f11a5",
   "metadata": {},
   "outputs": [
    {
     "name": "stdout",
     "output_type": "stream",
     "text": [
      "{'b': [1, 2, 3, 4], 'a': 'Another value', 'Name': 'Karan Budha Air', 'Address': '4 Kelvin Road'}\n"
     ]
    }
   ],
   "source": [
    "d2={\"Name\":\"Karan Budha Air\", \"Address\":\"4 Kelvin Road\"}\n",
    "d1.update(d2)\n",
    "print(d1)"
   ]
  },
  {
   "cell_type": "code",
   "execution_count": 149,
   "id": "22044d33",
   "metadata": {},
   "outputs": [
    {
     "name": "stdout",
     "output_type": "stream",
     "text": [
      "[('a', 'apple'), ('b', 'ball'), ('c', 'camera')]\n",
      "{}\n"
     ]
    }
   ],
   "source": [
    "key_list=[\"a\",\"b\",\"c\"]\n",
    "value_list=[\"apple\",\"ball\",\"camera\"]\n",
    "dictionary={}\n",
    "zipped=zip(key_list,value_list)\n",
    "\n",
    "print(list(zipped))\n",
    "for key, value in zipped:\n",
    "    dictionary[key]=value\n",
    "print(dictionary)"
   ]
  },
  {
   "cell_type": "code",
   "execution_count": 145,
   "id": "32263fda",
   "metadata": {},
   "outputs": [
    {
     "name": "stdout",
     "output_type": "stream",
     "text": [
      "[('a', 'apple'), ('b', 'ball'), ('c', 'camera')]\n"
     ]
    }
   ],
   "source": [
    "zipper=zip(key_list,value_list)\n",
    "print(list(zipper))"
   ]
  },
  {
   "cell_type": "code",
   "execution_count": 164,
   "id": "f1457fa5",
   "metadata": {},
   "outputs": [
    {
     "name": "stdout",
     "output_type": "stream",
     "text": [
      "{'a': ['apple', 'atom'], 'b': ['bat', 'bar', 'book']}\n"
     ]
    }
   ],
   "source": [
    "words = [\"apple\", \"bat\", \"bar\", \"atom\", \"book\"]\n",
    "english_dictionary={}\n",
    "for word in words:\n",
    "    first_letter=word[0]\n",
    "    if first_letter  in english_dictionary:\n",
    "        english_dictionary[first_letter].append(word)\n",
    "        \n",
    "    else:\n",
    "        english_dictionary[first_letter]=[word]\n",
    "        \n",
    "print(english_dictionary)\n"
   ]
  },
  {
   "cell_type": "code",
   "execution_count": 169,
   "id": "47c4fe03",
   "metadata": {},
   "outputs": [
    {
     "name": "stdout",
     "output_type": "stream",
     "text": [
      "{'a': ['Karan', 'Budha Air', 'Budha Air'], 'b': ['Karan', 'Budha Air', 'Budha Air', 'Budha Air']}\n"
     ]
    }
   ],
   "source": [
    "words = [\"apple\", \"bat\", \"bar\", \"atom\", \"book\"]\n",
    "english_dictionary={}\n",
    "for word in words:\n",
    "    first_letter=word[0]\n",
    "    english_dictionary.setdefault(first_letter,[\"Karan\"]).append(\"Budha Air\")\n",
    "print(english_dictionary)"
   ]
  },
  {
   "cell_type": "code",
   "execution_count": 174,
   "id": "dc56901d",
   "metadata": {},
   "outputs": [
    {
     "name": "stdout",
     "output_type": "stream",
     "text": [
      "defaultdict(<class 'list'>, {'a': ['apple', 'atom'], 'b': ['bat', 'bar', 'book']})\n"
     ]
    }
   ],
   "source": [
    "from collections import defaultdict\n",
    "\n",
    "words = [\"apple\", \"bat\", \"bar\", \"atom\", \"book\"]\n",
    "english_dictionary=defaultdict(list)\n",
    "for word in words:\n",
    "    english_dictionary[word[0]].append(word)\n",
    "print(english_dictionary)   "
   ]
  },
  {
   "cell_type": "code",
   "execution_count": null,
   "id": "edab1b08",
   "metadata": {},
   "outputs": [],
   "source": []
  }
 ],
 "metadata": {
  "kernelspec": {
   "display_name": "Python 3 (ipykernel)",
   "language": "python",
   "name": "python3"
  },
  "language_info": {
   "codemirror_mode": {
    "name": "ipython",
    "version": 3
   },
   "file_extension": ".py",
   "mimetype": "text/x-python",
   "name": "python",
   "nbconvert_exporter": "python",
   "pygments_lexer": "ipython3",
   "version": "3.11.4"
  }
 },
 "nbformat": 4,
 "nbformat_minor": 5
}
