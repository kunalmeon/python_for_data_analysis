{
 "cells": [
  {
   "cell_type": "code",
   "execution_count": 1,
   "id": "0e3a874d-951e-470a-bf93-0d7d38f8234e",
   "metadata": {
    "tags": []
   },
   "outputs": [
    {
     "name": "stdout",
     "output_type": "stream",
     "text": [
      "The columns are ['Alice', 25, 'New York']\n",
      "The rows are [['Bob', 30, 'Los Angeles'], ['Charlie', 35, 'Chicago']]\n",
      "{'Alice': ['Bob', 'Charlie'], 25: [30, 35], 'New York': ['Los Angeles', 'Chicago']}\n",
      "     Alice  25     New York Nepal\n",
      "0      Bob  30  Los Angeles   NaN\n",
      "1  Charlie  35      Chicago   NaN\n"
     ]
    }
   ],
   "source": [
    "import pandas as pd\n",
    "# List of lists representing tabular data\n",
    "data_list = [\n",
    "    ['Alice', 25, 'New York'],\n",
    "    ['Bob', 30, 'Los Angeles'],\n",
    "    ['Charlie', 35, 'Chicago']\n",
    "]\n",
    "\n",
    "# Extract column labels (first row of the list)\n",
    "columns = data_list[0]\n",
    "print(\"The columns are\", columns)\n",
    "\n",
    "# Extract data rows (remaining rows of the list)\n",
    "rows = data_list[1:]\n",
    "print(\"The rows are\", rows)\n",
    "\n",
    "# Convert to dictionary\n",
    "data_dict = {column: [row[i] for row in rows] for i, column in enumerate(columns)}\n",
    "\n",
    "print(data_dict)\n",
    "print(pd.DataFrame(data_dict, columns=[\"Alice\", 25, \"New York\",\"Nepal\"]))\n",
    "\n",
    "\n",
    "\n",
    "\n"
   ]
  },
  {
   "cell_type": "code",
   "execution_count": 2,
   "id": "8e30e1de-44bd-4563-b8c8-29c515827fb0",
   "metadata": {
    "tags": []
   },
   "outputs": [
    {
     "name": "stdout",
     "output_type": "stream",
     "text": [
      "   one  two\n",
      "a  1.0  1.0\n",
      "b  2.0  2.0\n",
      "c  3.0  3.0\n",
      "d  NaN  4.0\n",
      "   two  one\n",
      "d  4.0  NaN\n",
      "b  2.0  2.0\n",
      "a  1.0  1.0\n"
     ]
    }
   ],
   "source": [
    " d = {\n",
    "        \"one\": pd.Series([1.0, 2.0, 3.0], index=[\"a\", \"b\", \"c\"]),\n",
    "        \"two\": pd.Series([1.0, 2.0, 3.0, 4.0], index=[\"a\", \"b\", \"c\", \"d\"]),\n",
    "    }\n",
    "   \n",
    " df = pd.DataFrame(d)\n",
    "\n",
    " print(df)\n",
    " pd.DataFrame(d, index=[\"d\", \"b\", \"a\"])\n",
    "\n",
    " df2=pd.DataFrame(d, index=[\"d\", \"b\", \"a\"], columns=[\"two\", \"one\"])\n",
    " print(df2)\n"
   ]
  },
  {
   "cell_type": "code",
   "execution_count": 3,
   "id": "4f7b3f60-52f2-48cd-8fff-d5b878a78090",
   "metadata": {
    "tags": []
   },
   "outputs": [
    {
     "name": "stdout",
     "output_type": "stream",
     "text": [
      "   ID Address\n",
      "0   7     NaN\n",
      "1  10     NaN\n"
     ]
    }
   ],
   "source": [
    "import numpy as np\n",
    "structured_arry=np.array([(7,\"Suman\"),(10,\"Karan\")],dtype=[(\"ID\",int),(\"Name\",\"U10\")])\n",
    "data_frame=pd.DataFrame(structured_arry,columns=[\"ID\",\"Address\"])\n",
    "print(data_frame)"
   ]
  },
  {
   "cell_type": "code",
   "execution_count": 4,
   "id": "1c59228a-c3ae-4017-9faa-89bfe7d15784",
   "metadata": {
    "tags": []
   },
   "outputs": [
    {
     "name": "stdout",
     "output_type": "stream",
     "text": [
      "   a   b     c\n",
      "0  1   2   NaN\n",
      "1  5  10  20.0\n"
     ]
    }
   ],
   "source": [
    "data = [{\"a\": 1, \"b\": 2}, {\"a\": 5, \"b\": 10, \"c\": 20}]\n",
    "list_of_dict_df=pd.DataFrame(data)\n",
    "print(list_of_dict_df)"
   ]
  },
  {
   "cell_type": "code",
   "execution_count": 5,
   "id": "a148598b-b71b-4598-95e6-511e124ad203",
   "metadata": {
    "tags": []
   },
   "outputs": [
    {
     "name": "stdout",
     "output_type": "stream",
     "text": [
      "   one  two  three\n",
      "a  1.0  1.0      8\n",
      "b  2.0  2.0      9\n",
      "c  3.0  3.0     10\n",
      "d  NaN  4.0     11\n"
     ]
    }
   ],
   "source": [
    "d[\"three\"]=list(range(8,12))\n",
    "print(pd.DataFrame(d))"
   ]
  },
  {
   "cell_type": "code",
   "execution_count": 6,
   "id": "09e0be3d-98a7-473f-bb00-8d84bdd0a64b",
   "metadata": {
    "tags": []
   },
   "outputs": [
    {
     "name": "stdout",
     "output_type": "stream",
     "text": [
      "   one  two  three  Four\n",
      "a  1.0  1.0      8   9.0\n",
      "b  2.0  2.0      9   6.0\n",
      "c  3.0  3.0     10   6.0\n",
      "d  NaN  4.0     11   NaN\n"
     ]
    }
   ],
   "source": [
    "d[\"Four\"]=d[\"one\"]+(d[\"three\"]//d[\"two\"])\n",
    "df=pd.DataFrame(d)\n",
    "print(df)"
   ]
  },
  {
   "cell_type": "code",
   "execution_count": 9,
   "id": "efb63331-8477-4fc6-9ec7-6e6f65f78682",
   "metadata": {
    "tags": []
   },
   "outputs": [
    {
     "name": "stdout",
     "output_type": "stream",
     "text": [
      "[10, 11]\n"
     ]
    }
   ],
   "source": [
    "greater_than_nine=[value for value in df[\"three\"] if value>9]\n",
    "print(greater_than_nine)"
   ]
  },
  {
   "cell_type": "code",
   "execution_count": 23,
   "id": "b56eb455-06d5-4b07-a3db-1c0832caf705",
   "metadata": {
    "tags": []
   },
   "outputs": [
    {
     "name": "stdout",
     "output_type": "stream",
     "text": [
      "    one   two  three  Four\n",
      "a  13.0  14.0      8   9.0\n",
      "b  13.0  14.0      9   6.0\n",
      "c   3.0   4.0     10   6.0\n",
      "d   NaN   4.0     11   NaN\n"
     ]
    }
   ],
   "source": [
    "df.iloc[[0,1],df.columns.get_indexer([\"one\",\"two\"])]=[13,14]\n",
    "#df.loc[['b','c'],[\"one\",\"two\"]]=[3,4]\n",
    "print(df)"
   ]
  },
  {
   "cell_type": "code",
   "execution_count": 12,
   "id": "32023197-302b-4a9d-b415-0eb703ed6a12",
   "metadata": {
    "tags": []
   },
   "outputs": [
    {
     "name": "stdout",
     "output_type": "stream",
     "text": [
      "   one  two  three  Four\n",
      "a  1.0  1.0      8   9.0\n",
      "b  2.0  2.0      9   6.0\n",
      "c  3.0  3.0     10   6.0\n",
      "d  NaN  4.0     11   NaN\n"
     ]
    }
   ],
   "source": [
    "print(df)"
   ]
  },
  {
   "cell_type": "code",
   "execution_count": 32,
   "id": "f0ca303c-97e7-450d-a672-514ebc16565a",
   "metadata": {
    "tags": []
   },
   "outputs": [
    {
     "name": "stdout",
     "output_type": "stream",
     "text": [
      "[20, 21, 22, 23]\n",
      "    one   two  three  Four  series\n",
      "a  13.0  14.0      8   9.0      20\n",
      "b  13.0  14.0      9   6.0      21\n",
      "c   3.0   4.0     10   6.0      22\n",
      "d   NaN   4.0     11   NaN      23\n"
     ]
    }
   ],
   "source": [
    "\n",
    "print(list(range(20,24)))\n",
    "df[\"series\"]=pd.Series(list(range(20,24)), index=df.index)\n",
    "print(df)"
   ]
  },
  {
   "cell_type": "code",
   "execution_count": 33,
   "id": "e078af49-68ac-443b-b6fa-898d050558ae",
   "metadata": {
    "tags": []
   },
   "outputs": [
    {
     "name": "stdout",
     "output_type": "stream",
     "text": [
      "       Math  Science  English\n",
      "Karan    85       92       78\n",
      "Suman    90       89       85\n",
      "Niraj    88       91       80\n"
     ]
    }
   ],
   "source": [
    "data = {\n",
    "    'Math': [85, 90, 88],\n",
    "    'Science': [92, 89, 91],\n",
    "    'English': [78, 85, 80]\n",
    "}\n",
    "index=[\"Karan\",\"Suman\",\"Niraj\"]\n",
    "result_df=pd.DataFrame(data, index=index)\n",
    "print(result_df)"
   ]
  },
  {
   "cell_type": "code",
   "execution_count": 64,
   "id": "5edd5d52-5539-4381-b821-5a4547655299",
   "metadata": {
    "tags": []
   },
   "outputs": [
    {
     "name": "stdout",
     "output_type": "stream",
     "text": [
      "       Math  Science\n",
      "Karan  True     True\n",
      "Suman  True     True\n",
      "Niraj  True     True\n",
      "       Math  Science  English\n",
      "Karan    85       92      NaN\n",
      "Suman    90       89      NaN\n",
      "Niraj    88       91      NaN\n",
      "<class 'pandas.core.frame.DataFrame'>\n"
     ]
    }
   ],
   "source": [
    "boolean=result_df.loc[:,[\"Math\",\"Science\"]]>80\n",
    "print(boolean)\n",
    "K_science=result_df[boolean]\n",
    "print(K_science)\n",
    "print(type(K_science))"
   ]
  },
  {
   "cell_type": "code",
   "execution_count": 57,
   "id": "be13cdd3-3563-42f3-98cc-c58b4692229b",
   "metadata": {
    "tags": []
   },
   "outputs": [
    {
     "name": "stdout",
     "output_type": "stream",
     "text": [
      "       Math  Science  English\n",
      "Karan   NaN     92.0      NaN\n",
      "Suman   NaN      NaN      NaN\n",
      "Niraj   NaN     91.0      NaN\n"
     ]
    }
   ],
   "source": [
    "dataFrame=result_df[K_science]\n",
    "print(dataFrame)\n"
   ]
  },
  {
   "cell_type": "code",
   "execution_count": 67,
   "id": "23d31288-4534-4cd4-a7d2-13ede96696d1",
   "metadata": {
    "tags": []
   },
   "outputs": [
    {
     "name": "stdout",
     "output_type": "stream",
     "text": [
      "Filtered Rows:\n",
      "   A  B\n",
      "c  3  8\n",
      "d  4  9\n",
      "\n",
      "Selected Rows:\n",
      "   A   B\n",
      "a  1   6\n",
      "c  3   8\n",
      "e  5  10\n",
      "\n",
      "Result of Adding Series to DataFrame:\n",
      "   A  B\n",
      "c  3  8\n",
      "d  4  9\n"
     ]
    }
   ],
   "source": [
    "import pandas as pd\n",
    "\n",
    "# Creating a DataFrame\n",
    "data = {\n",
    "    'A': [1, 2, 3, 4, 5],\n",
    "    'B': [6, 7, 8, 9, 10],\n",
    "}\n",
    "df = pd.DataFrame(data, index=['a', 'b', 'c', 'd', 'e'])\n",
    "\n",
    "# Example 1: Filtering Rows using a boolean mask\n",
    "mask = pd.Series([False, False, True, True, False], index=['a', 'b', 'c', 'd', 'e'])\n",
    "filtered_rows = df[mask]\n",
    "print(\"Filtered Rows:\")\n",
    "print(filtered_rows)\n",
    "\n",
    "# Example 2: Selecting Specific Rows using a Series of index labels\n",
    "selected_rows = df.loc[['a', 'c', 'e']]\n",
    "print(\"\\nSelected Rows:\")\n",
    "print(selected_rows)\n",
    "\n",
    "# Example 3: Performing Operation on DataFrame using a Series\n",
    "addition_series = pd.Series(mask, index=['a', 'b', 'c', 'd', 'e'])\n",
    "result = df[addition_series] \n",
    "print(\"\\nResult of Adding Series to DataFrame:\")\n",
    "print(result)\n"
   ]
  },
  {
   "cell_type": "code",
   "execution_count": 73,
   "id": "e33d8611-b648-46d1-989a-54cd73f74c9e",
   "metadata": {
    "tags": []
   },
   "outputs": [],
   "source": [
    "df2=pd.Series([11,12,13,14] ,index=['a', 'b', 'c', 'd'])"
   ]
  },
  {
   "cell_type": "code",
   "execution_count": 74,
   "id": "8da17997-9074-4a98-85cb-24586d997dff",
   "metadata": {
    "tags": []
   },
   "outputs": [
    {
     "name": "stdout",
     "output_type": "stream",
     "text": [
      "a    11\n",
      "b    12\n",
      "c    13\n",
      "d    14\n",
      "dtype: int64\n"
     ]
    }
   ],
   "source": [
    "print(df2)"
   ]
  },
  {
   "cell_type": "code",
   "execution_count": 75,
   "id": "92197324-ab44-4c71-9ef0-55a4ce4d8ece",
   "metadata": {
    "tags": []
   },
   "outputs": [
    {
     "name": "stdout",
     "output_type": "stream",
     "text": [
      "   A   B  series\n",
      "a  1   6    11.0\n",
      "b  2   7    12.0\n",
      "c  3   8    13.0\n",
      "d  4   9    14.0\n",
      "e  5  10     NaN\n"
     ]
    }
   ],
   "source": [
    "df[\"series\"]=df2\n",
    "print(df)"
   ]
  },
  {
   "cell_type": "code",
   "execution_count": 79,
   "id": "40a3251e-f46c-4ea1-b1ea-6ad9ab4ee970",
   "metadata": {
    "tags": []
   },
   "outputs": [
    {
     "name": "stdout",
     "output_type": "stream",
     "text": [
      "Resulting DataFrame:\n",
      "    A   B   c\n",
      "0  11  24 NaN\n",
      "1  12  25 NaN\n",
      "2  13  26 NaN\n"
     ]
    }
   ],
   "source": [
    "import pandas as pd\n",
    "\n",
    "# Creating a DataFrame\n",
    "data = {\n",
    "    'A': [1, 2, 3],\n",
    "    'B': [4, 5, 6],\n",
    "}\n",
    "df = pd.DataFrame(data)\n",
    "\n",
    "# Creating a Series with different index\n",
    "series = pd.Series([10, 20, 30], index=['A', 'B','c'])\n",
    "\n",
    "# Adding the Series to the DataFrame\n",
    "result = df + series\n",
    "\n",
    "print(\"Resulting DataFrame:\")\n",
    "print(result)\n"
   ]
  },
  {
   "cell_type": "code",
   "execution_count": 88,
   "id": "ff275085-2c97-40ed-a783-a827f18933dd",
   "metadata": {
    "tags": []
   },
   "outputs": [
    {
     "name": "stdout",
     "output_type": "stream",
     "text": [
      "       a      b\n",
      "0  False  False\n",
      "1   True   True\n",
      "2   True  False\n"
     ]
    }
   ],
   "source": [
    "df1 = pd.DataFrame({\"a\": [1, 20, 1], \"b\": [0, 1, 1]}, dtype=bool)\n",
    "\n",
    "df2 = pd.DataFrame({\"a\": [0, 31, 1], \"b\": [1, 1, 0]}, dtype=bool)\n",
    "\n",
    "df3=df1 & df2\n",
    "print(df3)"
   ]
  },
  {
   "cell_type": "code",
   "execution_count": 90,
   "id": "250c7895-448f-49ea-ad72-36cb578650d0",
   "metadata": {
    "tags": []
   },
   "outputs": [
    {
     "name": "stdout",
     "output_type": "stream",
     "text": [
      "before tanspose (3, 2)\n",
      "       0     1      2\n",
      "a  False  True   True\n",
      "b  False  True  False\n",
      "\n",
      " after transopose (2, 3)\n"
     ]
    }
   ],
   "source": [
    "print(\"before tanspose\", df3.shape)\n",
    "print(df3.T)\n",
    "print(\"\\n after transopose\", df3.T.shape)\n"
   ]
  },
  {
   "cell_type": "code",
   "execution_count": 93,
   "id": "783dfcd1-d8b8-43b3-9b4a-21c8557fd834",
   "metadata": {
    "tags": []
   },
   "outputs": [
    {
     "data": {
      "text/plain": [
       "0    True\n",
       "1    True\n",
       "2    True\n",
       "Name: a, dtype: bool"
      ]
     },
     "execution_count": 93,
     "metadata": {},
     "output_type": "execute_result"
    }
   ],
   "source": [
    "np.add(df1['a'],df1['a'])"
   ]
  },
  {
   "cell_type": "code",
   "execution_count": 110,
   "id": "99bccad1-8fd3-4dc2-b34c-36a59445a35e",
   "metadata": {
    "tags": []
   },
   "outputs": [
    {
     "name": "stdout",
     "output_type": "stream",
     "text": [
      "<class 'pandas.core.frame.DataFrame'>\n",
      "RangeIndex: 3 entries, 0 to 2\n",
      "Data columns (total 2 columns):\n",
      " #   Column  Non-Null Count  Dtype\n",
      "---  ------  --------------  -----\n",
      " 0   a       3 non-null      bool \n",
      " 1   b       3 non-null      bool \n",
      "dtypes: bool(2)\n",
      "memory usage: 138.0 bytes\n"
     ]
    }
   ],
   "source": [
    "\n",
    "pd.set_option(\"display.width\", 80)\n",
    "df3.info()"
   ]
  },
  {
   "cell_type": "code",
   "execution_count": 99,
   "id": "4dbd96cd-813e-4422-89c9-ed701ca925a1",
   "metadata": {
    "tags": []
   },
   "outputs": [
    {
     "name": "stdout",
     "output_type": "stream",
     "text": [
      "<ufunc 'add'>\n"
     ]
    }
   ],
   "source": [
    "print(getattr(np,\"add\"))"
   ]
  },
  {
   "cell_type": "code",
   "execution_count": null,
   "id": "03a8059e-1eb1-49a5-8b3c-854b09fd8d82",
   "metadata": {
    "tags": []
   },
   "outputs": [],
   "source": []
  },
  {
   "cell_type": "code",
   "execution_count": 103,
   "id": "92a23cf9-1852-447b-a634-e8f70e880291",
   "metadata": {
    "tags": []
   },
   "outputs": [
    {
     "name": "stdout",
     "output_type": "stream",
     "text": [
      "Object `pandas.insert` not found.\n"
     ]
    }
   ],
   "source": [
    "pandas.insert?"
   ]
  },
  {
   "cell_type": "code",
   "execution_count": null,
   "id": "bc8bac6c-ca69-473c-a0e3-04a4091e66c6",
   "metadata": {
    "tags": []
   },
   "outputs": [],
   "source": []
  },
  {
   "cell_type": "code",
   "execution_count": null,
   "id": "3d3973e9-e747-4797-9597-ccb7ee092f83",
   "metadata": {},
   "outputs": [],
   "source": []
  }
 ],
 "metadata": {
  "kernelspec": {
   "display_name": "Python 3 (ipykernel)",
   "language": "python",
   "name": "python3"
  },
  "language_info": {
   "codemirror_mode": {
    "name": "ipython",
    "version": 3
   },
   "file_extension": ".py",
   "mimetype": "text/x-python",
   "name": "python",
   "nbconvert_exporter": "python",
   "pygments_lexer": "ipython3",
   "version": "3.11.4"
  }
 },
 "nbformat": 4,
 "nbformat_minor": 5
}
